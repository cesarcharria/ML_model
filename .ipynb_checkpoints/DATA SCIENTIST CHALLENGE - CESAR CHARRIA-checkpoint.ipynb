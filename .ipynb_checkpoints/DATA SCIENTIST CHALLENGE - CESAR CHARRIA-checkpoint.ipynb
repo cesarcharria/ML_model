{
 "cells": [
  {
   "cell_type": "markdown",
   "id": "7afde3a7",
   "metadata": {},
   "source": [
    "# DATA SCIENTIST CHALLENGE - CESAR CHARRIA\n"
   ]
  },
  {
   "cell_type": "markdown",
   "id": "2174529b",
   "metadata": {},
   "source": [
    "## Metodología de trabajo\n",
    "\n",
    "Se hará uso de la metodología CRISP- para el desarrollo del presente challenge"
   ]
  },
  {
   "cell_type": "markdown",
   "id": "b6e9f7ef",
   "metadata": {},
   "source": [
    "## Cargue de librerías"
   ]
  },
  {
   "cell_type": "code",
   "execution_count": 1,
   "id": "b82ade31",
   "metadata": {},
   "outputs": [],
   "source": [
    "import os\n",
    "from cmath import inf\n",
    "\n",
    "# Manipulacion de datos\n",
    "import pandas as pd\n",
    "import numpy as np\n",
    "\n",
    "# Visualizacion\n",
    "import matplotlib.pyplot as plt\n",
    "import seaborn as sns\n",
    "from IPython.display import clear_output\n",
    "import collections\n",
    "from pprint import pprint\n",
    "%matplotlib inline\n",
    "\n",
    "# # Train y validation set\n",
    "from sklearn.model_selection import train_test_split\n",
    "\n",
    "# CV\n",
    "from sklearn.model_selection import GridSearchCV\n",
    "\n",
    "# Metricas\n",
    "from sklearn.metrics import confusion_matrix, roc_curve, auc, accuracy_score, roc_auc_score\n",
    "from sklearn.metrics import mean_squared_error, r2_score\n",
    "\n",
    "# Pipelines\n",
    "from sklearn.pipeline import Pipeline\n",
    "from imblearn.pipeline import Pipeline as imbPipeline\n",
    "\n",
    "\n",
    "# Preprocesamiento\n",
    "from sklearn.preprocessing import MinMaxScaler, RobustScaler, StandardScaler\n",
    "from sklearn.preprocessing import OneHotEncoder\n",
    "from sklearn.decomposition import PCA\n",
    "from sklearn.linear_model import Lasso\n",
    "from imblearn.over_sampling import SMOTE, RandomOverSampler\n",
    "from imblearn.under_sampling import RandomUnderSampler\n",
    "from sklearn.compose import ColumnTransformer, make_column_selector\n",
    "\n",
    "# Imputacion\n",
    "from sklearn.impute import KNNImputer, SimpleImputer\n",
    "\n",
    "# Modelamiento\n",
    "from sklearn.discriminant_analysis import LinearClassifierMixin, LinearDiscriminantAnalysis\n",
    "from sklearn.discriminant_analysis import QuadraticDiscriminantAnalysis\n",
    "from sklearn.linear_model import LogisticRegression\n",
    "from sklearn.svm import SVC\n",
    "from sklearn.neural_network import MLPClassifier\n",
    "from sklearn.ensemble import VotingClassifier\n",
    "import statsmodels.api as sm\n",
    "\n",
    "#Optimización Hiperparametros\n",
    "from bayes_opt import BayesianOptimization\n",
    "from bayes_opt.logger import JSONLogger\n",
    "from bayes_opt.event import Events\n",
    "from sklearn.model_selection import KFold"
   ]
  },
  {
   "cell_type": "markdown",
   "id": "c2c60856",
   "metadata": {},
   "source": [
    "## 1. Cargue de los datos"
   ]
  },
  {
   "cell_type": "code",
   "execution_count": 3,
   "id": "79739f40",
   "metadata": {
    "scrolled": true
   },
   "outputs": [
    {
     "name": "stdout",
     "output_type": "stream",
     "text": [
      "   ID_USER genero        monto       fecha  dia_numero dia_semana  hora  \\\n",
      "0        0      F  608,3456335  21/01/2020          21     Martes    20   \n",
      "1        0      F  88,71924289  15/01/2020          15  Miércoles     7   \n",
      "2        1      F  790,0376533  17/01/2020          17    Viernes    11   \n",
      "3        1      F  767,0053873   5/01/2020           5    Domingo    11   \n",
      "4        1      F  254,1710526  30/01/2020          30     Jueves    10   \n",
      "\n",
      "                                         dispositivo establecimiento  \\\n",
      "0  {'model': 2020; 'device_score': 3; 'os': 'ANDR...           Super   \n",
      "1  {'model': 2020; 'device_score': 1; 'os': 'ANDR...             NaN   \n",
      "2      {'model': 2020; 'device_score': 1; 'os': ','}             NaN   \n",
      "3    {'model': 2020; 'device_score': 3; 'os': 'WEB'}           MPago   \n",
      "4     {'model': 2020; 'device_score': 3; 'os': '%%'}             NaN   \n",
      "\n",
      "        ciudad  tipo_tc  linea_tc  interes_tc  status_txn  is_prime  \\\n",
      "0       Merida  FÃ­sica     71000          51    Aceptada     False   \n",
      "1       Merida  Virtual     71000          51    Aceptada     False   \n",
      "2  Guadalajara  Virtual     94000          56  En proceso     False   \n",
      "3  Guadalajara  FÃ­sica     94000          56    Aceptada     False   \n",
      "4  Guadalajara  FÃ­sica     94000          56    Aceptada     False   \n",
      "\n",
      "          dcto     cashback  fraude  \n",
      "0  60,83456335  5,475110702   False  \n",
      "1            0  1,774384858   False  \n",
      "2            0  15,80075307   False  \n",
      "3            0  7,670053873   False  \n",
      "4            0  2,541710526   False  \n"
     ]
    }
   ],
   "source": [
    "df = pd.read_csv('DS_Challenge.csv', sep=\";\")\n",
    "\n",
    "print (df.head(5))"
   ]
  },
  {
   "cell_type": "markdown",
   "id": "9a69d6b8",
   "metadata": {},
   "source": [
    "# 2. Entendimiento y preparación de los datos"
   ]
  },
  {
   "cell_type": "markdown",
   "id": "be8ae21e",
   "metadata": {},
   "source": [
    "En esta sección se llevarán a cabo algunas actividades iniciales de entendimiento de los datos, como por ejemplo conocer la cantidad de registros, de variables, los tipos de variables, la cantidad de registros faltantes y de acuerdo a los hallazgos se aplicará la limpieza y ajuste que corresponda para así contar un un dataset idóneo que permita realizar el análisis Exploratorio de los Datos adecuado y encontrar los hallazgos correctos previo a un fase de modelamiento de los datos."
   ]
  },
  {
   "cell_type": "markdown",
   "id": "c5e0c9a8",
   "metadata": {},
   "source": [
    "## 2.1 Entendimiento inicial\n",
    "\n",
    "Se cuenta con un dataset de 18 variables y 26.975 registros. La variable objetivo \"fraude\". Algunos de los tipos de variables serán ajustados en la preparación de los datos"
   ]
  },
  {
   "cell_type": "code",
   "execution_count": 4,
   "id": "de817fc8",
   "metadata": {},
   "outputs": [
    {
     "name": "stdout",
     "output_type": "stream",
     "text": [
      "(26975, 18)\n"
     ]
    }
   ],
   "source": [
    "print(df.shape)"
   ]
  },
  {
   "cell_type": "code",
   "execution_count": 5,
   "id": "ca1bf6fd",
   "metadata": {},
   "outputs": [
    {
     "data": {
      "text/plain": [
       "ID_USER             int64\n",
       "genero             object\n",
       "monto              object\n",
       "fecha              object\n",
       "dia_numero          int64\n",
       "dia_semana         object\n",
       "hora                int64\n",
       "dispositivo        object\n",
       "establecimiento    object\n",
       "ciudad             object\n",
       "tipo_tc            object\n",
       "linea_tc            int64\n",
       "interes_tc          int64\n",
       "status_txn         object\n",
       "is_prime             bool\n",
       "dcto               object\n",
       "cashback           object\n",
       "fraude               bool\n",
       "dtype: object"
      ]
     },
     "execution_count": 5,
     "metadata": {},
     "output_type": "execute_result"
    }
   ],
   "source": [
    "df.dtypes"
   ]
  },
  {
   "cell_type": "markdown",
   "id": "d226e654",
   "metadata": {},
   "source": [
    "## 2.2 Datos faltantes\n",
    "\n",
    "Al realizar un análisis de datos faltantes se encuentra que las variables \"establecimiento\" y \"ciudad\" presentan 10.119 y 11.678 registros faltantes respectivamente. En algunos casos los faltantes aparecen como NA, N/A o nulos."
   ]
  },
  {
   "cell_type": "code",
   "execution_count": 6,
   "id": "55443494",
   "metadata": {
    "scrolled": true
   },
   "outputs": [
    {
     "data": {
      "text/plain": [
       "ID_USER                0\n",
       "genero                 0\n",
       "monto                  0\n",
       "fecha                  0\n",
       "dia_numero             0\n",
       "dia_semana             0\n",
       "hora                   0\n",
       "dispositivo            0\n",
       "establecimiento    10119\n",
       "ciudad             11678\n",
       "tipo_tc                0\n",
       "linea_tc               0\n",
       "interes_tc             0\n",
       "status_txn             0\n",
       "is_prime               0\n",
       "dcto                   0\n",
       "cashback               0\n",
       "fraude                 0\n",
       "dtype: int64"
      ]
     },
     "execution_count": 6,
     "metadata": {},
     "output_type": "execute_result"
    }
   ],
   "source": [
    "df.isna().sum()"
   ]
  },
  {
   "cell_type": "code",
   "execution_count": 7,
   "id": "d4cf7b63",
   "metadata": {
    "scrolled": true
   },
   "outputs": [
    {
     "data": {
      "text/plain": [
       "ID_USER             0.000000\n",
       "genero              0.000000\n",
       "monto               0.000000\n",
       "fecha               0.000000\n",
       "dia_numero          0.000000\n",
       "dia_semana          0.000000\n",
       "hora                0.000000\n",
       "dispositivo         0.000000\n",
       "establecimiento    37.512512\n",
       "ciudad             43.291937\n",
       "tipo_tc             0.000000\n",
       "linea_tc            0.000000\n",
       "interes_tc          0.000000\n",
       "status_txn          0.000000\n",
       "is_prime            0.000000\n",
       "dcto                0.000000\n",
       "cashback            0.000000\n",
       "fraude              0.000000\n",
       "dtype: float64"
      ]
     },
     "execution_count": 7,
     "metadata": {},
     "output_type": "execute_result"
    }
   ],
   "source": [
    "df.isna().sum() / len(df) * 100"
   ]
  },
  {
   "cell_type": "markdown",
   "id": "26f5f0fb",
   "metadata": {},
   "source": [
    "## 2.3 Limpieza inicial y preparación"
   ]
  },
  {
   "cell_type": "markdown",
   "id": "bcbf0f2e",
   "metadata": {},
   "source": [
    "Se realiza ajustes tales como reemplazar los faltantes por alguna categoría, cambiar el tipo de datos y limpiar variables."
   ]
  },
  {
   "cell_type": "markdown",
   "id": "79bdf3d0",
   "metadata": {},
   "source": [
    "### Variable Genero\n",
    "\n",
    "Se reemplaza \"--\" por otro, esto dado que es posible que no sea obligatorio poner un genero, sin significar que se deban perder estos registros."
   ]
  },
  {
   "cell_type": "code",
   "execution_count": 8,
   "id": "0469e47a",
   "metadata": {},
   "outputs": [
    {
     "data": {
      "text/plain": [
       "M     13519\n",
       "F     10726\n",
       "--     2730\n",
       "Name: genero, dtype: int64"
      ]
     },
     "execution_count": 8,
     "metadata": {},
     "output_type": "execute_result"
    }
   ],
   "source": [
    "df.genero.value_counts()"
   ]
  },
  {
   "cell_type": "code",
   "execution_count": 9,
   "id": "4cc4badc",
   "metadata": {
    "scrolled": true
   },
   "outputs": [],
   "source": [
    "df['genero'] = np.where(df['genero']== '--', \"Otro\", df.genero)"
   ]
  },
  {
   "cell_type": "code",
   "execution_count": 10,
   "id": "c4fc3d1f",
   "metadata": {
    "scrolled": false
   },
   "outputs": [
    {
     "data": {
      "text/plain": [
       "M       13519\n",
       "F       10726\n",
       "Otro     2730\n",
       "Name: genero, dtype: int64"
      ]
     },
     "execution_count": 10,
     "metadata": {},
     "output_type": "execute_result"
    }
   ],
   "source": [
    "df.genero.value_counts()"
   ]
  },
  {
   "cell_type": "markdown",
   "id": "143a350d",
   "metadata": {},
   "source": [
    "### Variable Establecimiento\n",
    "\n",
    "Esta variable presenta un total de 10.119 registros sin dato, por lo cual se decide reemplazarlos por la categoria \"Otro\" para no perder estos datos, puesto que representan una cantidad importante del total de registros."
   ]
  },
  {
   "cell_type": "code",
   "execution_count": 11,
   "id": "5ea7293f",
   "metadata": {
    "scrolled": false
   },
   "outputs": [
    {
     "data": {
      "text/plain": [
       "False    16856\n",
       "True     10119\n",
       "Name: establecimiento, dtype: int64"
      ]
     },
     "execution_count": 11,
     "metadata": {},
     "output_type": "execute_result"
    }
   ],
   "source": [
    "df.isna().establecimiento.value_counts()"
   ]
  },
  {
   "cell_type": "code",
   "execution_count": 12,
   "id": "3aad20eb",
   "metadata": {},
   "outputs": [],
   "source": [
    "df['establecimiento'] = np.where(df.isna().establecimiento, \"Otro\", df.establecimiento)"
   ]
  },
  {
   "cell_type": "code",
   "execution_count": 13,
   "id": "c842c872",
   "metadata": {
    "scrolled": true
   },
   "outputs": [
    {
     "data": {
      "text/plain": [
       "Otro           10119\n",
       "Restaurante     3454\n",
       "Abarrotes       3415\n",
       "Super           3402\n",
       "MPago           3343\n",
       "Farmacia        3242\n",
       "Name: establecimiento, dtype: int64"
      ]
     },
     "execution_count": 13,
     "metadata": {},
     "output_type": "execute_result"
    }
   ],
   "source": [
    "df.establecimiento.value_counts()"
   ]
  },
  {
   "cell_type": "markdown",
   "id": "2365dffe",
   "metadata": {},
   "source": [
    "### Variable Ciudad\n",
    "\n",
    "Esta variable presenta un total de 11.678 registros sin dato, por lo cual se decide reemplazarlos por la categoria \"Otro\" para no perder estos datos, puesto que representan una cantidad importante del total de registros."
   ]
  },
  {
   "cell_type": "code",
   "execution_count": 14,
   "id": "3b115024",
   "metadata": {
    "scrolled": true
   },
   "outputs": [
    {
     "data": {
      "text/plain": [
       "False    15297\n",
       "True     11678\n",
       "Name: ciudad, dtype: int64"
      ]
     },
     "execution_count": 14,
     "metadata": {},
     "output_type": "execute_result"
    }
   ],
   "source": [
    "df.isna().ciudad.value_counts()"
   ]
  },
  {
   "cell_type": "code",
   "execution_count": 15,
   "id": "67ad81c1",
   "metadata": {},
   "outputs": [],
   "source": [
    "df['ciudad'] = np.where(df.isna().ciudad, \"Otro\", df.ciudad)"
   ]
  },
  {
   "cell_type": "code",
   "execution_count": 16,
   "id": "0848c740",
   "metadata": {
    "scrolled": false
   },
   "outputs": [
    {
     "data": {
      "text/plain": [
       "Otro           11678\n",
       "Toluca          3997\n",
       "Guadalajara     3833\n",
       "Merida          3761\n",
       "Monterrey       3706\n",
       "Name: ciudad, dtype: int64"
      ]
     },
     "execution_count": 16,
     "metadata": {},
     "output_type": "execute_result"
    }
   ],
   "source": [
    "df.ciudad.value_counts()"
   ]
  },
  {
   "cell_type": "markdown",
   "id": "290d9fec",
   "metadata": {},
   "source": [
    "### Variable Tipo_tc\n",
    "\n",
    "Para tener mayor limpieza y claridad en los datos, en esta variable se ajusta la categoría \"FÃ­sica\" a \"Fisica\"."
   ]
  },
  {
   "cell_type": "code",
   "execution_count": 17,
   "id": "3f06deeb",
   "metadata": {
    "scrolled": true
   },
   "outputs": [
    {
     "data": {
      "text/plain": [
       "FÃ­sica    18903\n",
       "Virtual     8072\n",
       "Name: tipo_tc, dtype: int64"
      ]
     },
     "execution_count": 17,
     "metadata": {},
     "output_type": "execute_result"
    }
   ],
   "source": [
    "df.tipo_tc.value_counts()"
   ]
  },
  {
   "cell_type": "code",
   "execution_count": 18,
   "id": "cb172c72",
   "metadata": {},
   "outputs": [],
   "source": [
    "df['tipo_tc'] = np.where(df['tipo_tc']== 'FÃ­sica', \"Fisica\", df.tipo_tc)"
   ]
  },
  {
   "cell_type": "code",
   "execution_count": 19,
   "id": "dcc2fc7b",
   "metadata": {
    "scrolled": false
   },
   "outputs": [
    {
     "data": {
      "text/plain": [
       "Fisica     18903\n",
       "Virtual     8072\n",
       "Name: tipo_tc, dtype: int64"
      ]
     },
     "execution_count": 19,
     "metadata": {},
     "output_type": "execute_result"
    }
   ],
   "source": [
    "df.tipo_tc.value_counts()"
   ]
  },
  {
   "cell_type": "markdown",
   "id": "edcd799a",
   "metadata": {},
   "source": [
    "### Cambio en el tipo de variables\n",
    "\n",
    "Para algunas variables se realiza el cambio de su tipo para realizar un análisis correcto de estas."
   ]
  },
  {
   "cell_type": "code",
   "execution_count": 20,
   "id": "7cbe198b",
   "metadata": {},
   "outputs": [
    {
     "data": {
      "text/plain": [
       "ID_USER             int64\n",
       "genero             object\n",
       "monto              object\n",
       "fecha              object\n",
       "dia_numero          int64\n",
       "dia_semana         object\n",
       "hora                int64\n",
       "dispositivo        object\n",
       "establecimiento    object\n",
       "ciudad             object\n",
       "tipo_tc            object\n",
       "linea_tc            int64\n",
       "interes_tc          int64\n",
       "status_txn         object\n",
       "is_prime             bool\n",
       "dcto               object\n",
       "cashback           object\n",
       "fraude               bool\n",
       "dtype: object"
      ]
     },
     "execution_count": 20,
     "metadata": {},
     "output_type": "execute_result"
    }
   ],
   "source": [
    "#Tipos iniciales\n",
    "df.dtypes"
   ]
  },
  {
   "cell_type": "code",
   "execution_count": 21,
   "id": "68849b24",
   "metadata": {},
   "outputs": [],
   "source": [
    "df['monto'] = df['monto'].str.replace(\",\", \".\")\n",
    "df['dcto'] = df['dcto'].str.replace(\",\", \".\")\n",
    "df['cashback'] = df['cashback'].str.replace(\",\", \".\")"
   ]
  },
  {
   "cell_type": "code",
   "execution_count": 22,
   "id": "70eac033",
   "metadata": {},
   "outputs": [],
   "source": [
    "df = df.astype({'monto': 'float64', 'is_prime': 'object', 'dia_numero': 'object', 'linea_tc': 'float64',\n",
    "                'interes_tc': 'float64','dcto': 'float64', 'cashback': 'float64','fraude': 'object'})"
   ]
  },
  {
   "cell_type": "code",
   "execution_count": 23,
   "id": "a2453f97",
   "metadata": {},
   "outputs": [
    {
     "data": {
      "text/plain": [
       "ID_USER              int64\n",
       "genero              object\n",
       "monto              float64\n",
       "fecha               object\n",
       "dia_numero          object\n",
       "dia_semana          object\n",
       "hora                 int64\n",
       "dispositivo         object\n",
       "establecimiento     object\n",
       "ciudad              object\n",
       "tipo_tc             object\n",
       "linea_tc           float64\n",
       "interes_tc         float64\n",
       "status_txn          object\n",
       "is_prime            object\n",
       "dcto               float64\n",
       "cashback           float64\n",
       "fraude              object\n",
       "dtype: object"
      ]
     },
     "execution_count": 23,
     "metadata": {},
     "output_type": "execute_result"
    }
   ],
   "source": [
    "#Tipos ajustados\n",
    "df.dtypes"
   ]
  },
  {
   "cell_type": "markdown",
   "id": "e017d59b",
   "metadata": {},
   "source": [
    "## 2.4 Análisis Exploratorio de Datos (EDA)"
   ]
  },
  {
   "cell_type": "markdown",
   "id": "c2eadb1b",
   "metadata": {},
   "source": [
    "Con los ajustes realizados previamente se procede a realizar el EDA, donde se analizarán las variables de manera univariada, bivariada y multivariada. Dado que en esta sección también se crearán algunas variables, se hará uso de una copia de dataframe que se ha consolidado hasta el punto anterior, el cual se denominara df1."
   ]
  },
  {
   "cell_type": "code",
   "execution_count": 24,
   "id": "2169f145",
   "metadata": {},
   "outputs": [],
   "source": [
    "df1= df"
   ]
  },
  {
   "cell_type": "markdown",
   "id": "fd18e213",
   "metadata": {},
   "source": [
    "### 2.4.1 Análisis descriptivo general de todas las variables\n",
    "\n",
    "Se inicia con un panorama general de todas las variables(aún no se excluye ninguna), donde se pueden observar algunos de los estadístico descriptivos más importantes."
   ]
  },
  {
   "cell_type": "code",
   "execution_count": 25,
   "id": "0e8b32fa",
   "metadata": {
    "scrolled": false
   },
   "outputs": [
    {
     "data": {
      "text/html": [
       "<div>\n",
       "<style scoped>\n",
       "    .dataframe tbody tr th:only-of-type {\n",
       "        vertical-align: middle;\n",
       "    }\n",
       "\n",
       "    .dataframe tbody tr th {\n",
       "        vertical-align: top;\n",
       "    }\n",
       "\n",
       "    .dataframe thead th {\n",
       "        text-align: right;\n",
       "    }\n",
       "</style>\n",
       "<table border=\"1\" class=\"dataframe\">\n",
       "  <thead>\n",
       "    <tr style=\"text-align: right;\">\n",
       "      <th></th>\n",
       "      <th>ID_USER</th>\n",
       "      <th>genero</th>\n",
       "      <th>monto</th>\n",
       "      <th>fecha</th>\n",
       "      <th>dia_numero</th>\n",
       "      <th>dia_semana</th>\n",
       "      <th>hora</th>\n",
       "      <th>dispositivo</th>\n",
       "      <th>establecimiento</th>\n",
       "      <th>ciudad</th>\n",
       "      <th>tipo_tc</th>\n",
       "      <th>linea_tc</th>\n",
       "      <th>interes_tc</th>\n",
       "      <th>status_txn</th>\n",
       "      <th>is_prime</th>\n",
       "      <th>dcto</th>\n",
       "      <th>cashback</th>\n",
       "      <th>fraude</th>\n",
       "    </tr>\n",
       "  </thead>\n",
       "  <tbody>\n",
       "    <tr>\n",
       "      <th>count</th>\n",
       "      <td>26975.000000</td>\n",
       "      <td>26975</td>\n",
       "      <td>26975.000000</td>\n",
       "      <td>26975</td>\n",
       "      <td>26975.0</td>\n",
       "      <td>26975</td>\n",
       "      <td>26975.000000</td>\n",
       "      <td>26975</td>\n",
       "      <td>26975</td>\n",
       "      <td>26975</td>\n",
       "      <td>26975</td>\n",
       "      <td>26975.000000</td>\n",
       "      <td>26975.000000</td>\n",
       "      <td>26975</td>\n",
       "      <td>26975</td>\n",
       "      <td>26975.000000</td>\n",
       "      <td>26975.000000</td>\n",
       "      <td>26975</td>\n",
       "    </tr>\n",
       "    <tr>\n",
       "      <th>unique</th>\n",
       "      <td>NaN</td>\n",
       "      <td>3</td>\n",
       "      <td>NaN</td>\n",
       "      <td>29</td>\n",
       "      <td>29.0</td>\n",
       "      <td>7</td>\n",
       "      <td>NaN</td>\n",
       "      <td>20</td>\n",
       "      <td>6</td>\n",
       "      <td>5</td>\n",
       "      <td>2</td>\n",
       "      <td>NaN</td>\n",
       "      <td>NaN</td>\n",
       "      <td>3</td>\n",
       "      <td>2</td>\n",
       "      <td>NaN</td>\n",
       "      <td>NaN</td>\n",
       "      <td>2</td>\n",
       "    </tr>\n",
       "    <tr>\n",
       "      <th>top</th>\n",
       "      <td>NaN</td>\n",
       "      <td>M</td>\n",
       "      <td>NaN</td>\n",
       "      <td>29/01/2020</td>\n",
       "      <td>29.0</td>\n",
       "      <td>Jueves</td>\n",
       "      <td>NaN</td>\n",
       "      <td>{'model': 2020; 'device_score': 4; 'os': '%%'}</td>\n",
       "      <td>Otro</td>\n",
       "      <td>Otro</td>\n",
       "      <td>Fisica</td>\n",
       "      <td>NaN</td>\n",
       "      <td>NaN</td>\n",
       "      <td>Aceptada</td>\n",
       "      <td>False</td>\n",
       "      <td>NaN</td>\n",
       "      <td>NaN</td>\n",
       "      <td>False</td>\n",
       "    </tr>\n",
       "    <tr>\n",
       "      <th>freq</th>\n",
       "      <td>NaN</td>\n",
       "      <td>13519</td>\n",
       "      <td>NaN</td>\n",
       "      <td>977</td>\n",
       "      <td>977.0</td>\n",
       "      <td>4613</td>\n",
       "      <td>NaN</td>\n",
       "      <td>1411</td>\n",
       "      <td>10119</td>\n",
       "      <td>11678</td>\n",
       "      <td>18903</td>\n",
       "      <td>NaN</td>\n",
       "      <td>NaN</td>\n",
       "      <td>18844</td>\n",
       "      <td>23416</td>\n",
       "      <td>NaN</td>\n",
       "      <td>NaN</td>\n",
       "      <td>26165</td>\n",
       "    </tr>\n",
       "    <tr>\n",
       "      <th>mean</th>\n",
       "      <td>2003.765412</td>\n",
       "      <td>NaN</td>\n",
       "      <td>499.069493</td>\n",
       "      <td>NaN</td>\n",
       "      <td>NaN</td>\n",
       "      <td>NaN</td>\n",
       "      <td>11.987618</td>\n",
       "      <td>NaN</td>\n",
       "      <td>NaN</td>\n",
       "      <td>NaN</td>\n",
       "      <td>NaN</td>\n",
       "      <td>62476.811863</td>\n",
       "      <td>48.224875</td>\n",
       "      <td>NaN</td>\n",
       "      <td>NaN</td>\n",
       "      <td>17.466134</td>\n",
       "      <td>6.261186</td>\n",
       "      <td>NaN</td>\n",
       "    </tr>\n",
       "    <tr>\n",
       "      <th>std</th>\n",
       "      <td>1144.630736</td>\n",
       "      <td>NaN</td>\n",
       "      <td>289.309518</td>\n",
       "      <td>NaN</td>\n",
       "      <td>NaN</td>\n",
       "      <td>NaN</td>\n",
       "      <td>6.642565</td>\n",
       "      <td>NaN</td>\n",
       "      <td>NaN</td>\n",
       "      <td>NaN</td>\n",
       "      <td>NaN</td>\n",
       "      <td>21886.892902</td>\n",
       "      <td>9.587256</td>\n",
       "      <td>NaN</td>\n",
       "      <td>NaN</td>\n",
       "      <td>34.334566</td>\n",
       "      <td>4.458440</td>\n",
       "      <td>NaN</td>\n",
       "    </tr>\n",
       "    <tr>\n",
       "      <th>min</th>\n",
       "      <td>0.000000</td>\n",
       "      <td>NaN</td>\n",
       "      <td>0.017303</td>\n",
       "      <td>NaN</td>\n",
       "      <td>NaN</td>\n",
       "      <td>NaN</td>\n",
       "      <td>1.000000</td>\n",
       "      <td>NaN</td>\n",
       "      <td>NaN</td>\n",
       "      <td>NaN</td>\n",
       "      <td>NaN</td>\n",
       "      <td>25000.000000</td>\n",
       "      <td>32.000000</td>\n",
       "      <td>NaN</td>\n",
       "      <td>NaN</td>\n",
       "      <td>0.000000</td>\n",
       "      <td>0.000138</td>\n",
       "      <td>NaN</td>\n",
       "    </tr>\n",
       "    <tr>\n",
       "      <th>25%</th>\n",
       "      <td>1041.000000</td>\n",
       "      <td>NaN</td>\n",
       "      <td>246.521227</td>\n",
       "      <td>NaN</td>\n",
       "      <td>NaN</td>\n",
       "      <td>NaN</td>\n",
       "      <td>6.000000</td>\n",
       "      <td>NaN</td>\n",
       "      <td>NaN</td>\n",
       "      <td>NaN</td>\n",
       "      <td>NaN</td>\n",
       "      <td>44000.000000</td>\n",
       "      <td>40.000000</td>\n",
       "      <td>NaN</td>\n",
       "      <td>NaN</td>\n",
       "      <td>0.000000</td>\n",
       "      <td>2.791740</td>\n",
       "      <td>NaN</td>\n",
       "    </tr>\n",
       "    <tr>\n",
       "      <th>50%</th>\n",
       "      <td>2006.000000</td>\n",
       "      <td>NaN</td>\n",
       "      <td>500.501022</td>\n",
       "      <td>NaN</td>\n",
       "      <td>NaN</td>\n",
       "      <td>NaN</td>\n",
       "      <td>12.000000</td>\n",
       "      <td>NaN</td>\n",
       "      <td>NaN</td>\n",
       "      <td>NaN</td>\n",
       "      <td>NaN</td>\n",
       "      <td>62000.000000</td>\n",
       "      <td>48.000000</td>\n",
       "      <td>NaN</td>\n",
       "      <td>NaN</td>\n",
       "      <td>0.000000</td>\n",
       "      <td>5.636711</td>\n",
       "      <td>NaN</td>\n",
       "    </tr>\n",
       "    <tr>\n",
       "      <th>75%</th>\n",
       "      <td>2973.500000</td>\n",
       "      <td>NaN</td>\n",
       "      <td>749.598192</td>\n",
       "      <td>NaN</td>\n",
       "      <td>NaN</td>\n",
       "      <td>NaN</td>\n",
       "      <td>18.000000</td>\n",
       "      <td>NaN</td>\n",
       "      <td>NaN</td>\n",
       "      <td>NaN</td>\n",
       "      <td>NaN</td>\n",
       "      <td>82000.000000</td>\n",
       "      <td>57.000000</td>\n",
       "      <td>NaN</td>\n",
       "      <td>NaN</td>\n",
       "      <td>18.770710</td>\n",
       "      <td>8.531604</td>\n",
       "      <td>NaN</td>\n",
       "    </tr>\n",
       "    <tr>\n",
       "      <th>max</th>\n",
       "      <td>3999.000000</td>\n",
       "      <td>NaN</td>\n",
       "      <td>999.917764</td>\n",
       "      <td>NaN</td>\n",
       "      <td>NaN</td>\n",
       "      <td>NaN</td>\n",
       "      <td>23.000000</td>\n",
       "      <td>NaN</td>\n",
       "      <td>NaN</td>\n",
       "      <td>NaN</td>\n",
       "      <td>NaN</td>\n",
       "      <td>99000.000000</td>\n",
       "      <td>64.000000</td>\n",
       "      <td>NaN</td>\n",
       "      <td>NaN</td>\n",
       "      <td>199.356251</td>\n",
       "      <td>19.991582</td>\n",
       "      <td>NaN</td>\n",
       "    </tr>\n",
       "  </tbody>\n",
       "</table>\n",
       "</div>"
      ],
      "text/plain": [
       "             ID_USER genero         monto       fecha  dia_numero dia_semana  \\\n",
       "count   26975.000000  26975  26975.000000       26975     26975.0      26975   \n",
       "unique           NaN      3           NaN          29        29.0          7   \n",
       "top              NaN      M           NaN  29/01/2020        29.0     Jueves   \n",
       "freq             NaN  13519           NaN         977       977.0       4613   \n",
       "mean     2003.765412    NaN    499.069493         NaN         NaN        NaN   \n",
       "std      1144.630736    NaN    289.309518         NaN         NaN        NaN   \n",
       "min         0.000000    NaN      0.017303         NaN         NaN        NaN   \n",
       "25%      1041.000000    NaN    246.521227         NaN         NaN        NaN   \n",
       "50%      2006.000000    NaN    500.501022         NaN         NaN        NaN   \n",
       "75%      2973.500000    NaN    749.598192         NaN         NaN        NaN   \n",
       "max      3999.000000    NaN    999.917764         NaN         NaN        NaN   \n",
       "\n",
       "                hora                                     dispositivo  \\\n",
       "count   26975.000000                                           26975   \n",
       "unique           NaN                                              20   \n",
       "top              NaN  {'model': 2020; 'device_score': 4; 'os': '%%'}   \n",
       "freq             NaN                                            1411   \n",
       "mean       11.987618                                             NaN   \n",
       "std         6.642565                                             NaN   \n",
       "min         1.000000                                             NaN   \n",
       "25%         6.000000                                             NaN   \n",
       "50%        12.000000                                             NaN   \n",
       "75%        18.000000                                             NaN   \n",
       "max        23.000000                                             NaN   \n",
       "\n",
       "       establecimiento ciudad tipo_tc      linea_tc    interes_tc status_txn  \\\n",
       "count            26975  26975   26975  26975.000000  26975.000000      26975   \n",
       "unique               6      5       2           NaN           NaN          3   \n",
       "top               Otro   Otro  Fisica           NaN           NaN   Aceptada   \n",
       "freq             10119  11678   18903           NaN           NaN      18844   \n",
       "mean               NaN    NaN     NaN  62476.811863     48.224875        NaN   \n",
       "std                NaN    NaN     NaN  21886.892902      9.587256        NaN   \n",
       "min                NaN    NaN     NaN  25000.000000     32.000000        NaN   \n",
       "25%                NaN    NaN     NaN  44000.000000     40.000000        NaN   \n",
       "50%                NaN    NaN     NaN  62000.000000     48.000000        NaN   \n",
       "75%                NaN    NaN     NaN  82000.000000     57.000000        NaN   \n",
       "max                NaN    NaN     NaN  99000.000000     64.000000        NaN   \n",
       "\n",
       "       is_prime          dcto      cashback fraude  \n",
       "count     26975  26975.000000  26975.000000  26975  \n",
       "unique        2           NaN           NaN      2  \n",
       "top       False           NaN           NaN  False  \n",
       "freq      23416           NaN           NaN  26165  \n",
       "mean        NaN     17.466134      6.261186    NaN  \n",
       "std         NaN     34.334566      4.458440    NaN  \n",
       "min         NaN      0.000000      0.000138    NaN  \n",
       "25%         NaN      0.000000      2.791740    NaN  \n",
       "50%         NaN      0.000000      5.636711    NaN  \n",
       "75%         NaN     18.770710      8.531604    NaN  \n",
       "max         NaN    199.356251     19.991582    NaN  "
      ]
     },
     "execution_count": 25,
     "metadata": {},
     "output_type": "execute_result"
    }
   ],
   "source": [
    "df1.describe(include=\"all\")"
   ]
  },
  {
   "cell_type": "markdown",
   "id": "4897701c",
   "metadata": {},
   "source": [
    "### 2.4.2 Análisis univariado variables categóricas\n",
    "\n",
    "Se realiza un análisis univariado por separado de las variables tanto categórica como numéricas."
   ]
  },
  {
   "cell_type": "code",
   "execution_count": 26,
   "id": "5e1a9a4c",
   "metadata": {
    "scrolled": true
   },
   "outputs": [
    {
     "data": {
      "text/plain": [
       "Index(['genero', 'fecha', 'dia_numero', 'dia_semana', 'dispositivo',\n",
       "       'establecimiento', 'ciudad', 'tipo_tc', 'status_txn', 'is_prime',\n",
       "       'fraude'],\n",
       "      dtype='object')"
      ]
     },
     "execution_count": 26,
     "metadata": {},
     "output_type": "execute_result"
    }
   ],
   "source": [
    "# Variables categóricas:\n",
    "df1.select_dtypes(include='object').columns"
   ]
  },
  {
   "cell_type": "markdown",
   "id": "d44794b5",
   "metadata": {},
   "source": [
    "### Distribución de la variable objetivo \"fraude\"\n",
    "\n",
    "Se realiza un análisis de la variable \"fraude\" y se observa que del total de registros 810 son fraude y 26.156 no lo son, lo que inicialmente da un indicio claro que el dataset se encuentra desbalanceado."
   ]
  },
  {
   "cell_type": "code",
   "execution_count": 27,
   "id": "f67d9788",
   "metadata": {},
   "outputs": [
    {
     "data": {
      "text/plain": [
       "False    26165\n",
       "True       810\n",
       "Name: fraude, dtype: int64"
      ]
     },
     "execution_count": 27,
     "metadata": {},
     "output_type": "execute_result"
    }
   ],
   "source": [
    "df1.fraude.value_counts()"
   ]
  },
  {
   "cell_type": "code",
   "execution_count": 28,
   "id": "8c933393",
   "metadata": {},
   "outputs": [
    {
     "data": {
      "text/plain": [
       "False    96.99722\n",
       "True      3.00278\n",
       "Name: fraude, dtype: float64"
      ]
     },
     "execution_count": 28,
     "metadata": {},
     "output_type": "execute_result"
    }
   ],
   "source": [
    "df1.fraude.value_counts() / len(df1) * 100"
   ]
  },
  {
   "cell_type": "code",
   "execution_count": 30,
   "id": "af782fe4",
   "metadata": {
    "scrolled": false
   },
   "outputs": [
    {
     "data": {
      "image/png": "[encoded data removed]",
      "text/plain": [
       "<Figure size 576x216 with 1 Axes>"
      ]
     },
     "metadata": {},
     "output_type": "display_data"
    }
   ],
   "source": [
    "sns.countplot(data=df1, x='fraude')\n",
    "plt.title(\"Distribución de la variable objetivo (fraude) \")\n",
    "plt.ylabel(\"Frecuencia\")\n",
    "sns.set(rc = {'figure.figsize':(8,3)})"
   ]
  },
  {
   "cell_type": "markdown",
   "id": "f1b377f0",
   "metadata": {},
   "source": [
    "### Distribución de la variable \"genero\""
   ]
  },
  {
   "cell_type": "markdown",
   "id": "df4bbaed",
   "metadata": {},
   "source": [
    "Se realiza un análisis de la variable \"genero\" y se observa que del total de registros 13.519 son \"masculino\" y 10.726 son \"femenino\" y 2.730 son \"otro\", lo que indica que en este dataset los hombres realizaron un 50.11% del total de transacciones."
   ]
  },
  {
   "cell_type": "code",
   "execution_count": 31,
   "id": "9da64fe6",
   "metadata": {
    "scrolled": true
   },
   "outputs": [
    {
     "data": {
      "text/plain": [
       "M       13519\n",
       "F       10726\n",
       "Otro     2730\n",
       "Name: genero, dtype: int64"
      ]
     },
     "execution_count": 31,
     "metadata": {},
     "output_type": "execute_result"
    }
   ],
   "source": [
    "df1.genero.value_counts()"
   ]
  },
  {
   "cell_type": "code",
   "execution_count": 32,
   "id": "fc68d32b",
   "metadata": {},
   "outputs": [
    {
     "data": {
      "text/plain": [
       "M       50.116775\n",
       "F       39.762743\n",
       "Otro    10.120482\n",
       "Name: genero, dtype: float64"
      ]
     },
     "execution_count": 32,
     "metadata": {},
     "output_type": "execute_result"
    }
   ],
   "source": [
    "df1.genero.value_counts() / len(df1) * 100"
   ]
  },
  {
   "cell_type": "code",
   "execution_count": 33,
   "id": "940ea68a",
   "metadata": {
    "scrolled": true
   },
   "outputs": [
    {
     "data": {
      "text/plain": [
       "Text(0, 0.5, 'Frecuencia')"
      ]
     },
     "execution_count": 33,
     "metadata": {},
     "output_type": "execute_result"
    },
    {
     "data": {
      "image/png": "[encoded data removed]",
      "text/plain": [
       "<Figure size 576x216 with 1 Axes>"
      ]
     },
     "metadata": {},
     "output_type": "display_data"
    }
   ],
   "source": [
    "sns.countplot(data=df1, x='genero', order = df1['genero'].value_counts().index)\n",
    "plt.title(\"Distribución de la variable genero\")\n",
    "plt.ylabel(\"Frecuencia\")"
   ]
  },
  {
   "cell_type": "markdown",
   "id": "582a6f60",
   "metadata": {},
   "source": [
    "### Distribución de la variable \"establecimiento\""
   ]
  },
  {
   "cell_type": "markdown",
   "id": "f45c066d",
   "metadata": {},
   "source": [
    "Se realiza un análisis de la variable \"establecimiento\" y se observa que del total de registros, el 37.5% de las transacciones se realizan en la categoría \"otro\" y esto se debe a que en la preparación de los datos para no perder muchos registros, los datos nulos o vacíos se clasificaron en esta categoría; el resto de transacciones se distribuyen de manera equitativa en el resto de establecimientos."
   ]
  },
  {
   "cell_type": "code",
   "execution_count": 34,
   "id": "0ad7dedc",
   "metadata": {
    "scrolled": true
   },
   "outputs": [
    {
     "data": {
      "text/plain": [
       "Otro           10119\n",
       "Restaurante     3454\n",
       "Abarrotes       3415\n",
       "Super           3402\n",
       "MPago           3343\n",
       "Farmacia        3242\n",
       "Name: establecimiento, dtype: int64"
      ]
     },
     "execution_count": 34,
     "metadata": {},
     "output_type": "execute_result"
    }
   ],
   "source": [
    "df1.establecimiento.value_counts()"
   ]
  },
  {
   "cell_type": "code",
   "execution_count": 35,
   "id": "b4263d9c",
   "metadata": {
    "scrolled": true
   },
   "outputs": [
    {
     "data": {
      "text/plain": [
       "Otro           37.512512\n",
       "Restaurante    12.804449\n",
       "Abarrotes      12.659870\n",
       "Super          12.611677\n",
       "MPago          12.392956\n",
       "Farmacia       12.018536\n",
       "Name: establecimiento, dtype: float64"
      ]
     },
     "execution_count": 35,
     "metadata": {},
     "output_type": "execute_result"
    }
   ],
   "source": [
    "df1.establecimiento.value_counts() / len(df1) * 100"
   ]
  },
  {
   "cell_type": "code",
   "execution_count": 36,
   "id": "3068a1c4",
   "metadata": {
    "scrolled": true
   },
   "outputs": [
    {
     "data": {
      "text/plain": [
       "Text(0, 0.5, 'Frecuencia')"
      ]
     },
     "execution_count": 36,
     "metadata": {},
     "output_type": "execute_result"
    },
    {
     "data": {
      "image/png": "[encoded data removed]",
      "text/plain": [
       "<Figure size 576x216 with 1 Axes>"
      ]
     },
     "metadata": {},
     "output_type": "display_data"
    }
   ],
   "source": [
    "sns.countplot(data=df1, x='establecimiento', order = df1['establecimiento'].value_counts().index)\n",
    "plt.title(\"Distribución de la variable establecimiento\")\n",
    "plt.ylabel(\"Frecuencia\")"
   ]
  },
  {
   "cell_type": "markdown",
   "id": "45a3fc16",
   "metadata": {},
   "source": [
    "### Distribución de la variable \"ciudad\"\n",
    "\n",
    "Se realiza un análisis de la variable \"ciudad\" y se observa que del total de registros, el 43.29% de las transacciones se realizan en la categoría \"otro\" y esto se debe a que en la preparación de los datos para no perder muchos registros, los datos nulos o vacíos se clasificaron en esta categoría; el resto de transacciones se distribuyen de manera equitativa en el resto de ciudades."
   ]
  },
  {
   "cell_type": "code",
   "execution_count": 37,
   "id": "4ce64f61",
   "metadata": {
    "scrolled": true
   },
   "outputs": [
    {
     "data": {
      "text/plain": [
       "Otro           11678\n",
       "Toluca          3997\n",
       "Guadalajara     3833\n",
       "Merida          3761\n",
       "Monterrey       3706\n",
       "Name: ciudad, dtype: int64"
      ]
     },
     "execution_count": 37,
     "metadata": {},
     "output_type": "execute_result"
    }
   ],
   "source": [
    "df1.ciudad.value_counts()"
   ]
  },
  {
   "cell_type": "code",
   "execution_count": 38,
   "id": "edacd486",
   "metadata": {
    "scrolled": true
   },
   "outputs": [
    {
     "data": {
      "text/plain": [
       "Otro           43.291937\n",
       "Toluca         14.817424\n",
       "Guadalajara    14.209453\n",
       "Merida         13.942539\n",
       "Monterrey      13.738647\n",
       "Name: ciudad, dtype: float64"
      ]
     },
     "execution_count": 38,
     "metadata": {},
     "output_type": "execute_result"
    }
   ],
   "source": [
    "df1.ciudad.value_counts() / len(df1) * 100"
   ]
  },
  {
   "cell_type": "code",
   "execution_count": 39,
   "id": "36888586",
   "metadata": {
    "scrolled": true
   },
   "outputs": [
    {
     "data": {
      "text/plain": [
       "Text(0, 0.5, 'Frecuencia')"
      ]
     },
     "execution_count": 39,
     "metadata": {},
     "output_type": "execute_result"
    },
    {
     "data": {
      "image/png": "[encoded data removed]",
      "text/plain": [
       "<Figure size 576x216 with 1 Axes>"
      ]
     },
     "metadata": {},
     "output_type": "display_data"
    }
   ],
   "source": [
    "sns.countplot(data=df1, x='ciudad', order = df1['ciudad'].value_counts().index)\n",
    "plt.title(\"Distribución de la variable ciudad\")\n",
    "plt.ylabel(\"Frecuencia\")"
   ]
  },
  {
   "cell_type": "markdown",
   "id": "1876d04e",
   "metadata": {},
   "source": [
    "### Distribución de la variable \"tipo_tc\"\n",
    "\n",
    "Se realiza un análisis de la variable \"tipo_tc\" y se observa que del total de registros, el 70.07% de las transacciones se realizan de manera física."
   ]
  },
  {
   "cell_type": "code",
   "execution_count": 40,
   "id": "b9d3faed",
   "metadata": {
    "scrolled": true
   },
   "outputs": [
    {
     "data": {
      "text/plain": [
       "Fisica     18903\n",
       "Virtual     8072\n",
       "Name: tipo_tc, dtype: int64"
      ]
     },
     "execution_count": 40,
     "metadata": {},
     "output_type": "execute_result"
    }
   ],
   "source": [
    "df1.tipo_tc.value_counts()"
   ]
  },
  {
   "cell_type": "code",
   "execution_count": 41,
   "id": "e84f4243",
   "metadata": {
    "scrolled": true
   },
   "outputs": [
    {
     "data": {
      "text/plain": [
       "Fisica     70.075996\n",
       "Virtual    29.924004\n",
       "Name: tipo_tc, dtype: float64"
      ]
     },
     "execution_count": 41,
     "metadata": {},
     "output_type": "execute_result"
    }
   ],
   "source": [
    "df1.tipo_tc.value_counts() / len(df1) * 100"
   ]
  },
  {
   "cell_type": "code",
   "execution_count": 42,
   "id": "9758fd53",
   "metadata": {
    "scrolled": true
   },
   "outputs": [
    {
     "data": {
      "text/plain": [
       "Text(0, 0.5, 'Frecuencia')"
      ]
     },
     "execution_count": 42,
     "metadata": {},
     "output_type": "execute_result"
    },
    {
     "data": {
      "image/png": "[encoded data removed]",
      "text/plain": [
       "<Figure size 576x216 with 1 Axes>"
      ]
     },
     "metadata": {},
     "output_type": "display_data"
    }
   ],
   "source": [
    "sns.countplot(data=df1, x='tipo_tc')\n",
    "plt.title(\"Distribución de la variable tipo_tc\")\n",
    "plt.ylabel(\"Frecuencia\")"
   ]
  },
  {
   "cell_type": "markdown",
   "id": "40204bb6",
   "metadata": {},
   "source": [
    "### Distribución de la variable \"status_txn\"\n",
    "\n",
    "Se realiza un análisis de la variable \"status_txn\" y se observa que del total de registros, el 69.85% de las transacciones se encuentran en estado aceptada."
   ]
  },
  {
   "cell_type": "code",
   "execution_count": 43,
   "id": "1fb6b069",
   "metadata": {
    "scrolled": true
   },
   "outputs": [
    {
     "data": {
      "text/plain": [
       "Aceptada      18844\n",
       "En proceso     5341\n",
       "Rechazada      2790\n",
       "Name: status_txn, dtype: int64"
      ]
     },
     "execution_count": 43,
     "metadata": {},
     "output_type": "execute_result"
    }
   ],
   "source": [
    "df1.status_txn.value_counts()"
   ]
  },
  {
   "cell_type": "code",
   "execution_count": 44,
   "id": "96a9b587",
   "metadata": {
    "scrolled": true
   },
   "outputs": [
    {
     "data": {
      "text/plain": [
       "Aceptada      69.857275\n",
       "En proceso    19.799815\n",
       "Rechazada     10.342910\n",
       "Name: status_txn, dtype: float64"
      ]
     },
     "execution_count": 44,
     "metadata": {},
     "output_type": "execute_result"
    }
   ],
   "source": [
    "df1.status_txn.value_counts() / len(df1) * 100"
   ]
  },
  {
   "cell_type": "code",
   "execution_count": 45,
   "id": "e9e1cdc1",
   "metadata": {
    "scrolled": false
   },
   "outputs": [
    {
     "data": {
      "text/plain": [
       "Text(0, 0.5, 'Frecuencia')"
      ]
     },
     "execution_count": 45,
     "metadata": {},
     "output_type": "execute_result"
    },
    {
     "data": {
      "image/png": "[encoded data removed]",
      "text/plain": [
       "<Figure size 576x216 with 1 Axes>"
      ]
     },
     "metadata": {},
     "output_type": "display_data"
    }
   ],
   "source": [
    "sns.countplot(data=df1, x='status_txn')\n",
    "plt.title(\"Distribución de la variable status_txn\")\n",
    "plt.ylabel(\"Frecuencia\")"
   ]
  },
  {
   "cell_type": "markdown",
   "id": "82b0ac47",
   "metadata": {},
   "source": [
    "### Distribución de la variable \"is_prime\"\n",
    "\n",
    "Se realiza un análisis de la variable \"is_prime\" y se observa que del total de registros, el 86.05% de las transacciones no son realizadas por clientes prime."
   ]
  },
  {
   "cell_type": "code",
   "execution_count": 46,
   "id": "537a962c",
   "metadata": {},
   "outputs": [
    {
     "data": {
      "text/plain": [
       "False    23416\n",
       "True      3559\n",
       "Name: is_prime, dtype: int64"
      ]
     },
     "execution_count": 46,
     "metadata": {},
     "output_type": "execute_result"
    }
   ],
   "source": [
    "df1.is_prime.value_counts()"
   ]
  },
  {
   "cell_type": "code",
   "execution_count": 47,
   "id": "c7bc6b8f",
   "metadata": {
    "scrolled": true
   },
   "outputs": [
    {
     "data": {
      "text/plain": [
       "False    86.806302\n",
       "True     13.193698\n",
       "Name: is_prime, dtype: float64"
      ]
     },
     "execution_count": 47,
     "metadata": {},
     "output_type": "execute_result"
    }
   ],
   "source": [
    "df1.is_prime.value_counts() / len(df1) * 100"
   ]
  },
  {
   "cell_type": "code",
   "execution_count": 48,
   "id": "5939ce47",
   "metadata": {},
   "outputs": [
    {
     "data": {
      "text/plain": [
       "Text(0, 0.5, 'Frecuencia')"
      ]
     },
     "execution_count": 48,
     "metadata": {},
     "output_type": "execute_result"
    },
    {
     "data": {
      "image/png": "[encoded data removed]",
      "text/plain": [
       "<Figure size 576x216 with 1 Axes>"
      ]
     },
     "metadata": {},
     "output_type": "display_data"
    }
   ],
   "source": [
    "sns.countplot(data=df1, x='is_prime')\n",
    "plt.title(\"Distribución de la variable is_prime\")\n",
    "plt.ylabel(\"Frecuencia\")"
   ]
  },
  {
   "cell_type": "markdown",
   "id": "831afc65",
   "metadata": {},
   "source": [
    "### Distribución de la variable \"fecha\"\n",
    "\n",
    "Se realiza un análisis de la variable \"fecha\" y se hacen uso de variables adicionales creadas previamente en Excel, estas variables son el día de la fecha y el día semana de la fecha, esto con la intención de analizar la distribución de las transacciones de manera más detallada. Los registros de transacciones se encuentran entre el 2 de Enero de 2020 y 30 de Enero de 2020. "
   ]
  },
  {
   "cell_type": "code",
   "execution_count": 49,
   "id": "14787175",
   "metadata": {
    "scrolled": true
   },
   "outputs": [
    {
     "data": {
      "text/plain": [
       "0        21/01/2020\n",
       "1        15/01/2020\n",
       "2        17/01/2020\n",
       "3         5/01/2020\n",
       "4        30/01/2020\n",
       "            ...    \n",
       "26970     8/01/2020\n",
       "26971    14/01/2020\n",
       "26972    16/01/2020\n",
       "26973    13/01/2020\n",
       "26974     3/01/2020\n",
       "Name: fecha, Length: 26975, dtype: object"
      ]
     },
     "execution_count": 49,
     "metadata": {},
     "output_type": "execute_result"
    }
   ],
   "source": [
    "df1.fecha"
   ]
  },
  {
   "cell_type": "markdown",
   "id": "d63bdf5c",
   "metadata": {},
   "source": [
    "#### Análisis por día del mes\n",
    "\n",
    "Se observa que durante los días del mes la cantidad de transacciones presenta una distribución equitativa por día; esta distribución tiene su valor mínimo el 10 de Enero (869 transacciones, 3.22%) y su valor máximo el 29 de Enero (977 transacciones, 3,62%)."
   ]
  },
  {
   "cell_type": "code",
   "execution_count": 50,
   "id": "689f6036",
   "metadata": {
    "scrolled": false
   },
   "outputs": [
    {
     "data": {
      "text/plain": [
       "2     940\n",
       "3     913\n",
       "4     899\n",
       "5     950\n",
       "6     933\n",
       "7     961\n",
       "8     919\n",
       "9     912\n",
       "10    869\n",
       "11    935\n",
       "12    969\n",
       "13    935\n",
       "14    884\n",
       "15    952\n",
       "16    916\n",
       "17    941\n",
       "18    936\n",
       "19    935\n",
       "20    927\n",
       "21    920\n",
       "22    928\n",
       "23    891\n",
       "24    966\n",
       "25    946\n",
       "26    926\n",
       "27    927\n",
       "28    914\n",
       "29    977\n",
       "30    954\n",
       "Name: dia_numero, dtype: int64"
      ]
     },
     "execution_count": 50,
     "metadata": {},
     "output_type": "execute_result"
    }
   ],
   "source": [
    "df1.dia_numero.value_counts().sort_index(ascending=True)"
   ]
  },
  {
   "cell_type": "code",
   "execution_count": 51,
   "id": "b37a713e",
   "metadata": {
    "scrolled": false
   },
   "outputs": [
    {
     "data": {
      "text/plain": [
       "2     3.484708\n",
       "3     3.384615\n",
       "4     3.332715\n",
       "5     3.521779\n",
       "6     3.458758\n",
       "7     3.562558\n",
       "8     3.406858\n",
       "9     3.380908\n",
       "10    3.221501\n",
       "11    3.466172\n",
       "12    3.592215\n",
       "13    3.466172\n",
       "14    3.277108\n",
       "15    3.529194\n",
       "16    3.395737\n",
       "17    3.488415\n",
       "18    3.469880\n",
       "19    3.466172\n",
       "20    3.436515\n",
       "21    3.410565\n",
       "22    3.440222\n",
       "23    3.303058\n",
       "24    3.581094\n",
       "25    3.506951\n",
       "26    3.432808\n",
       "27    3.436515\n",
       "28    3.388323\n",
       "29    3.621872\n",
       "30    3.536608\n",
       "Name: dia_numero, dtype: float64"
      ]
     },
     "execution_count": 51,
     "metadata": {},
     "output_type": "execute_result"
    }
   ],
   "source": [
    "df1.dia_numero.value_counts().sort_index(ascending=True)/ len(df1) * 100"
   ]
  },
  {
   "cell_type": "markdown",
   "id": "37a7d182",
   "metadata": {},
   "source": [
    "En el siguiente grafico de barras no le logra observar de manera clara alguna tendencia de aumento o disminución de las tracciones por los días del mes."
   ]
  },
  {
   "cell_type": "code",
   "execution_count": 52,
   "id": "cd4616b5",
   "metadata": {
    "scrolled": false
   },
   "outputs": [
    {
     "data": {
      "text/plain": [
       "Text(0, 0.5, 'Frecuencia')"
      ]
     },
     "execution_count": 52,
     "metadata": {},
     "output_type": "execute_result"
    },
    {
     "data": {
      "image/png": "[encoded data removed]",
      "text/plain": [
       "<Figure size 576x216 with 1 Axes>"
      ]
     },
     "metadata": {},
     "output_type": "display_data"
    }
   ],
   "source": [
    "sns.countplot(data=df1, x='dia_numero')\n",
    "plt.title(\"Distribución de las transacciones por día del mes\")\n",
    "plt.ylabel(\"Frecuencia\")"
   ]
  },
  {
   "cell_type": "markdown",
   "id": "ba172826",
   "metadata": {},
   "source": [
    "#### Análisis por día de la semana\n",
    "\n",
    "Se realiza un analisis por el dia de la semana donde se observa un aumento en las transacciones los días jueves respecto a los dem+as días de la semana. Del total de las transacciones realizadas en el mes, el 17.10% fueron realizadas el día jueves, seguido del día domingo con un 14.01%."
   ]
  },
  {
   "cell_type": "code",
   "execution_count": 53,
   "id": "4c51b3d0",
   "metadata": {},
   "outputs": [],
   "source": [
    "df1['dias_semana_orden'] = pd.Categorical(df1['dia_semana'], \n",
    "                                         categories = ['Lunes','Martes','Miércoles','Jueves','Viernes','Sábado','Domingo'], ordered = True)"
   ]
  },
  {
   "cell_type": "code",
   "execution_count": 54,
   "id": "3b2de366",
   "metadata": {
    "scrolled": false
   },
   "outputs": [
    {
     "data": {
      "text/plain": [
       "Lunes        3722\n",
       "Martes       3679\n",
       "Miércoles    3776\n",
       "Jueves       4613\n",
       "Viernes      3689\n",
       "Sábado       3716\n",
       "Domingo      3780\n",
       "Name: dias_semana_orden, dtype: int64"
      ]
     },
     "execution_count": 54,
     "metadata": {},
     "output_type": "execute_result"
    }
   ],
   "source": [
    "df1.dias_semana_orden.value_counts().sort_index(ascending=True)"
   ]
  },
  {
   "cell_type": "code",
   "execution_count": 55,
   "id": "a1796f25",
   "metadata": {
    "scrolled": true
   },
   "outputs": [
    {
     "data": {
      "text/plain": [
       "Lunes        13.797961\n",
       "Martes       13.638554\n",
       "Miércoles    13.998146\n",
       "Jueves       17.101019\n",
       "Viernes      13.675626\n",
       "Sábado       13.775718\n",
       "Domingo      14.012975\n",
       "Name: dias_semana_orden, dtype: float64"
      ]
     },
     "execution_count": 55,
     "metadata": {},
     "output_type": "execute_result"
    }
   ],
   "source": [
    "df1.dias_semana_orden.value_counts().sort_index(ascending=True)/ len(df1) * 100"
   ]
  },
  {
   "cell_type": "code",
   "execution_count": 56,
   "id": "58a4a7af",
   "metadata": {},
   "outputs": [
    {
     "data": {
      "text/plain": [
       "Jueves       17.101019\n",
       "Domingo      14.012975\n",
       "Miércoles    13.998146\n",
       "Lunes        13.797961\n",
       "Sábado       13.775718\n",
       "Viernes      13.675626\n",
       "Martes       13.638554\n",
       "Name: dias_semana_orden, dtype: float64"
      ]
     },
     "execution_count": 56,
     "metadata": {},
     "output_type": "execute_result"
    }
   ],
   "source": [
    "df1.dias_semana_orden.value_counts()/ len(df1) * 100"
   ]
  },
  {
   "cell_type": "code",
   "execution_count": 57,
   "id": "09470b5e",
   "metadata": {
    "scrolled": false
   },
   "outputs": [
    {
     "data": {
      "text/plain": [
       "Text(0, 0.5, 'Frecuencia')"
      ]
     },
     "execution_count": 57,
     "metadata": {},
     "output_type": "execute_result"
    },
    {
     "data": {
      "image/png": "[encoded data removed]",
      "text/plain": [
       "<Figure size 576x216 with 1 Axes>"
      ]
     },
     "metadata": {},
     "output_type": "display_data"
    }
   ],
   "source": [
    "sns.countplot(data=df1, x='dias_semana_orden')\n",
    "plt.title(\"Distribución de las transacciones por día de la semana\")\n",
    "plt.ylabel(\"Frecuencia\")"
   ]
  },
  {
   "cell_type": "code",
   "execution_count": 58,
   "id": "98414378",
   "metadata": {
    "scrolled": true
   },
   "outputs": [
    {
     "data": {
      "text/plain": [
       "Text(0, 0.5, 'Frecuencia')"
      ]
     },
     "execution_count": 58,
     "metadata": {},
     "output_type": "execute_result"
    },
    {
     "data": {
      "image/png": "[encoded data removed]",
      "text/plain": [
       "<Figure size 576x216 with 1 Axes>"
      ]
     },
     "metadata": {},
     "output_type": "display_data"
    }
   ],
   "source": [
    "sns.countplot(data=df1, x='dias_semana_orden', order = df1['dias_semana_orden'].value_counts().index)\n",
    "plt.title(\"Distribución de las transacciones por día de la semana\")\n",
    "plt.ylabel(\"Frecuencia\")"
   ]
  },
  {
   "cell_type": "markdown",
   "id": "cf355419",
   "metadata": {},
   "source": [
    "### Distribución de la variable \"hora\"\n",
    "\n",
    "Se realiza un análisis de la variable \"hora\" y se observa una distribución muy similar en la cantidad de transacciones por hora."
   ]
  },
  {
   "cell_type": "code",
   "execution_count": 59,
   "id": "a10e362c",
   "metadata": {
    "scrolled": false
   },
   "outputs": [
    {
     "data": {
      "text/plain": [
       "1     1190\n",
       "2     1162\n",
       "3     1163\n",
       "4     1176\n",
       "5     1205\n",
       "6     1202\n",
       "7     1227\n",
       "8     1146\n",
       "9     1109\n",
       "10    1202\n",
       "11    1162\n",
       "12    1137\n",
       "13    1111\n",
       "14    1170\n",
       "15    1207\n",
       "16    1187\n",
       "17    1150\n",
       "18    1208\n",
       "19    1204\n",
       "20    1118\n",
       "21    1199\n",
       "22    1211\n",
       "23    1129\n",
       "Name: hora, dtype: int64"
      ]
     },
     "execution_count": 59,
     "metadata": {},
     "output_type": "execute_result"
    }
   ],
   "source": [
    "df1.hora.value_counts().sort_index(ascending=True)"
   ]
  },
  {
   "cell_type": "code",
   "execution_count": 60,
   "id": "098f0f71",
   "metadata": {
    "scrolled": false
   },
   "outputs": [
    {
     "data": {
      "text/plain": [
       "1     4.411492\n",
       "2     4.307692\n",
       "3     4.311399\n",
       "4     4.359592\n",
       "5     4.467099\n",
       "6     4.455978\n",
       "7     4.548656\n",
       "8     4.248378\n",
       "9     4.111214\n",
       "10    4.455978\n",
       "11    4.307692\n",
       "12    4.215014\n",
       "13    4.118628\n",
       "14    4.337349\n",
       "15    4.474513\n",
       "16    4.400371\n",
       "17    4.263207\n",
       "18    4.478221\n",
       "19    4.463392\n",
       "20    4.144578\n",
       "21    4.444856\n",
       "22    4.489342\n",
       "23    4.185357\n",
       "Name: hora, dtype: float64"
      ]
     },
     "execution_count": 60,
     "metadata": {},
     "output_type": "execute_result"
    }
   ],
   "source": [
    "df1.hora.value_counts().sort_index(ascending=True)/ len(df1) * 100"
   ]
  },
  {
   "cell_type": "code",
   "execution_count": 61,
   "id": "13d24f11",
   "metadata": {},
   "outputs": [
    {
     "data": {
      "text/plain": [
       "Text(0, 0.5, 'Frecuencia')"
      ]
     },
     "execution_count": 61,
     "metadata": {},
     "output_type": "execute_result"
    },
    {
     "data": {
      "image/png": "[encoded data removed]",
      "text/plain": [
       "<Figure size 576x216 with 1 Axes>"
      ]
     },
     "metadata": {},
     "output_type": "display_data"
    }
   ],
   "source": [
    "sns.countplot(data=df1, x='hora')\n",
    "plt.title(\"Distribución de las transacciones por hora del día\")\n",
    "plt.ylabel(\"Frecuencia\")"
   ]
  },
  {
   "cell_type": "markdown",
   "id": "1f661cbf",
   "metadata": {},
   "source": [
    "#### Creación variable 'Franjas_horarias'\n",
    "\n",
    "Con la intención de conocer la distribución de las transacciones por franjas se construye la variables Franjas Horarias, y se observa hay mucha similitud en la distribución de las transacciones por las franjas, sin más alta en la franja nocturna(entre 6 pm y 11 pm)."
   ]
  },
  {
   "cell_type": "code",
   "execution_count": 62,
   "id": "d083bae1",
   "metadata": {},
   "outputs": [],
   "source": [
    "#Definición de la variable Franjas Horarias\n",
    "df1.loc[(df1['hora']<6),'Franjas_horarias']='Madrugada'\n",
    "df1.loc[(df1['hora']>=6)&(df1['hora']<12),'Franjas_horarias']='Mañana'\n",
    "df1.loc[(df1['hora']>=12)&(df1['hora']<18),'Franjas_horarias']='Tarde'\n",
    "df1.loc[(df1['hora']>=18)&(df1['hora']<=23),'Franjas_horarias']='Noche'"
   ]
  },
  {
   "cell_type": "code",
   "execution_count": 63,
   "id": "047451f4",
   "metadata": {
    "scrolled": true
   },
   "outputs": [
    {
     "data": {
      "text/plain": [
       "Noche        7069\n",
       "Mañana       7048\n",
       "Tarde        6962\n",
       "Madrugada    5896\n",
       "Name: Franjas_horarias, dtype: int64"
      ]
     },
     "execution_count": 63,
     "metadata": {},
     "output_type": "execute_result"
    }
   ],
   "source": [
    "df1.Franjas_horarias.value_counts()"
   ]
  },
  {
   "cell_type": "code",
   "execution_count": 64,
   "id": "5f0d422b",
   "metadata": {
    "scrolled": true
   },
   "outputs": [
    {
     "data": {
      "text/plain": [
       "Noche        26.205746\n",
       "Mañana       26.127896\n",
       "Tarde        25.809082\n",
       "Madrugada    21.857275\n",
       "Name: Franjas_horarias, dtype: float64"
      ]
     },
     "execution_count": 64,
     "metadata": {},
     "output_type": "execute_result"
    }
   ],
   "source": [
    "df1.Franjas_horarias.value_counts()/ len(df1) * 100"
   ]
  },
  {
   "cell_type": "code",
   "execution_count": 65,
   "id": "9cf98280",
   "metadata": {
    "scrolled": true
   },
   "outputs": [
    {
     "data": {
      "text/plain": [
       "Text(0, 0.5, 'Frecuencia')"
      ]
     },
     "execution_count": 65,
     "metadata": {},
     "output_type": "execute_result"
    },
    {
     "data": {
      "image/png": "[encoded data removed]",
      "text/plain": [
       "<Figure size 576x216 with 1 Axes>"
      ]
     },
     "metadata": {},
     "output_type": "display_data"
    }
   ],
   "source": [
    "sns.countplot(data=df1, x='Franjas_horarias',order = df1['Franjas_horarias'].value_counts().index)\n",
    "plt.title(\"Distribución de las transacciones por franjas horarias\")\n",
    "plt.ylabel(\"Frecuencia\")"
   ]
  },
  {
   "cell_type": "markdown",
   "id": "177c33fe",
   "metadata": {},
   "source": [
    "### 2.4.3 Análisis univariado variables numéricas\n",
    "\n",
    "Se realiza un análisis inicial de estas variables calculando estadísticas descriptivos para conocer su comportamiento."
   ]
  },
  {
   "cell_type": "code",
   "execution_count": 66,
   "id": "1283bbb9",
   "metadata": {},
   "outputs": [
    {
     "data": {
      "text/plain": [
       "Index(['monto', 'linea_tc', 'interes_tc', 'dcto', 'cashback'], dtype='object')"
      ]
     },
     "execution_count": 66,
     "metadata": {},
     "output_type": "execute_result"
    }
   ],
   "source": [
    "df1.select_dtypes(include='float64').columns"
   ]
  },
  {
   "cell_type": "code",
   "execution_count": 67,
   "id": "e2532f4d",
   "metadata": {},
   "outputs": [
    {
     "data": {
      "text/html": [
       "<style type=\"text/css\">\n",
       "</style>\n",
       "<table id=\"T_4387c_\">\n",
       "  <thead>\n",
       "    <tr>\n",
       "      <th class=\"blank level0\" >&nbsp;</th>\n",
       "      <th class=\"col_heading level0 col0\" >count</th>\n",
       "      <th class=\"col_heading level0 col1\" >mean</th>\n",
       "      <th class=\"col_heading level0 col2\" >std</th>\n",
       "      <th class=\"col_heading level0 col3\" >min</th>\n",
       "      <th class=\"col_heading level0 col4\" >25%</th>\n",
       "      <th class=\"col_heading level0 col5\" >50%</th>\n",
       "      <th class=\"col_heading level0 col6\" >75%</th>\n",
       "      <th class=\"col_heading level0 col7\" >max</th>\n",
       "    </tr>\n",
       "  </thead>\n",
       "  <tbody>\n",
       "    <tr>\n",
       "      <th id=\"T_4387c_level0_row0\" class=\"row_heading level0 row0\" >monto</th>\n",
       "      <td id=\"T_4387c_row0_col0\" class=\"data row0 col0\" >26975.00</td>\n",
       "      <td id=\"T_4387c_row0_col1\" class=\"data row0 col1\" >499.07</td>\n",
       "      <td id=\"T_4387c_row0_col2\" class=\"data row0 col2\" >289.31</td>\n",
       "      <td id=\"T_4387c_row0_col3\" class=\"data row0 col3\" >0.02</td>\n",
       "      <td id=\"T_4387c_row0_col4\" class=\"data row0 col4\" >246.52</td>\n",
       "      <td id=\"T_4387c_row0_col5\" class=\"data row0 col5\" >500.50</td>\n",
       "      <td id=\"T_4387c_row0_col6\" class=\"data row0 col6\" >749.60</td>\n",
       "      <td id=\"T_4387c_row0_col7\" class=\"data row0 col7\" >999.92</td>\n",
       "    </tr>\n",
       "    <tr>\n",
       "      <th id=\"T_4387c_level0_row1\" class=\"row_heading level0 row1\" >linea_tc</th>\n",
       "      <td id=\"T_4387c_row1_col0\" class=\"data row1 col0\" >26975.00</td>\n",
       "      <td id=\"T_4387c_row1_col1\" class=\"data row1 col1\" >62476.81</td>\n",
       "      <td id=\"T_4387c_row1_col2\" class=\"data row1 col2\" >21886.89</td>\n",
       "      <td id=\"T_4387c_row1_col3\" class=\"data row1 col3\" >25000.00</td>\n",
       "      <td id=\"T_4387c_row1_col4\" class=\"data row1 col4\" >44000.00</td>\n",
       "      <td id=\"T_4387c_row1_col5\" class=\"data row1 col5\" >62000.00</td>\n",
       "      <td id=\"T_4387c_row1_col6\" class=\"data row1 col6\" >82000.00</td>\n",
       "      <td id=\"T_4387c_row1_col7\" class=\"data row1 col7\" >99000.00</td>\n",
       "    </tr>\n",
       "    <tr>\n",
       "      <th id=\"T_4387c_level0_row2\" class=\"row_heading level0 row2\" >interes_tc</th>\n",
       "      <td id=\"T_4387c_row2_col0\" class=\"data row2 col0\" >26975.00</td>\n",
       "      <td id=\"T_4387c_row2_col1\" class=\"data row2 col1\" >48.22</td>\n",
       "      <td id=\"T_4387c_row2_col2\" class=\"data row2 col2\" >9.59</td>\n",
       "      <td id=\"T_4387c_row2_col3\" class=\"data row2 col3\" >32.00</td>\n",
       "      <td id=\"T_4387c_row2_col4\" class=\"data row2 col4\" >40.00</td>\n",
       "      <td id=\"T_4387c_row2_col5\" class=\"data row2 col5\" >48.00</td>\n",
       "      <td id=\"T_4387c_row2_col6\" class=\"data row2 col6\" >57.00</td>\n",
       "      <td id=\"T_4387c_row2_col7\" class=\"data row2 col7\" >64.00</td>\n",
       "    </tr>\n",
       "    <tr>\n",
       "      <th id=\"T_4387c_level0_row3\" class=\"row_heading level0 row3\" >dcto</th>\n",
       "      <td id=\"T_4387c_row3_col0\" class=\"data row3 col0\" >26975.00</td>\n",
       "      <td id=\"T_4387c_row3_col1\" class=\"data row3 col1\" >17.47</td>\n",
       "      <td id=\"T_4387c_row3_col2\" class=\"data row3 col2\" >34.33</td>\n",
       "      <td id=\"T_4387c_row3_col3\" class=\"data row3 col3\" >0.00</td>\n",
       "      <td id=\"T_4387c_row3_col4\" class=\"data row3 col4\" >0.00</td>\n",
       "      <td id=\"T_4387c_row3_col5\" class=\"data row3 col5\" >0.00</td>\n",
       "      <td id=\"T_4387c_row3_col6\" class=\"data row3 col6\" >18.77</td>\n",
       "      <td id=\"T_4387c_row3_col7\" class=\"data row3 col7\" >199.36</td>\n",
       "    </tr>\n",
       "    <tr>\n",
       "      <th id=\"T_4387c_level0_row4\" class=\"row_heading level0 row4\" >cashback</th>\n",
       "      <td id=\"T_4387c_row4_col0\" class=\"data row4 col0\" >26975.00</td>\n",
       "      <td id=\"T_4387c_row4_col1\" class=\"data row4 col1\" >6.26</td>\n",
       "      <td id=\"T_4387c_row4_col2\" class=\"data row4 col2\" >4.46</td>\n",
       "      <td id=\"T_4387c_row4_col3\" class=\"data row4 col3\" >0.00</td>\n",
       "      <td id=\"T_4387c_row4_col4\" class=\"data row4 col4\" >2.79</td>\n",
       "      <td id=\"T_4387c_row4_col5\" class=\"data row4 col5\" >5.64</td>\n",
       "      <td id=\"T_4387c_row4_col6\" class=\"data row4 col6\" >8.53</td>\n",
       "      <td id=\"T_4387c_row4_col7\" class=\"data row4 col7\" >19.99</td>\n",
       "    </tr>\n",
       "  </tbody>\n",
       "</table>\n"
      ],
      "text/plain": [
       "<pandas.io.formats.style.Styler at 0x218641bc8e0>"
      ]
     },
     "execution_count": 67,
     "metadata": {},
     "output_type": "execute_result"
    }
   ],
   "source": [
    "(\n",
    "    df1\n",
    "        .select_dtypes(include='float64')\n",
    "        .describe(include='all')\n",
    "        .T\n",
    "        .style.format(precision=2)\n",
    ")"
   ]
  },
  {
   "cell_type": "markdown",
   "id": "fa094eea",
   "metadata": {},
   "source": [
    "* Para la variable **monto** se observa que el monto promedio facturado de las transacciones es de 499, adicional se observa que más del 50% de las transacciones tienen un valor de 500(cuartil 2/mediana).\n",
    "* Para la variable **linea_tc** se observa que el monto de linea(cupo de la tarjeta) promedio de las tarjetas con las que se realizaron las transacciones es de 62476, adicional se observa el 75% tienen un cupo inferior a 82000 (cuartil 3).\n",
    "* Para la variable **dcto** se encuentra que un 69.7% de las transacciones con valor 0(18814 transacciones de un total de 26975).\n",
    "\n",
    "En los gráficos box-plot e histogramas se corroboran los anteriores hallazgos."
   ]
  },
  {
   "cell_type": "code",
   "execution_count": 68,
   "id": "15d4bf5c",
   "metadata": {
    "scrolled": false
   },
   "outputs": [
    {
     "data": {
      "image/png": "[encoded data removed]",
      "text/plain": [
       "<Figure size 1440x720 with 5 Axes>"
      ]
     },
     "metadata": {},
     "output_type": "display_data"
    }
   ],
   "source": [
    "variables_numericas =  [*df1.select_dtypes(include='float64').columns]\n",
    "\n",
    "plt.figure(figsize=(20, 10))\n",
    "i=1\n",
    "for col in variables_numericas:\n",
    "    plt.subplot(2, 3, i)\n",
    "    sns.boxplot(data=df1, y=col)\n",
    "    plt.title(f\"Variable {col}\")\n",
    "    i+=1"
   ]
  },
  {
   "cell_type": "code",
   "execution_count": 69,
   "id": "cfafe419",
   "metadata": {
    "scrolled": false
   },
   "outputs": [
    {
     "data": {
      "image/png": "[encoded data removed]",
      "text/plain": [
       "<Figure size 1440x720 with 5 Axes>"
      ]
     },
     "metadata": {},
     "output_type": "display_data"
    }
   ],
   "source": [
    "plt.figure(figsize=(20, 10))\n",
    "i=1\n",
    "for col in variables_numericas:\n",
    "    plt.subplot(2, 3, i)\n",
    "    sns.histplot(data=df1, x=col)\n",
    "    plt.title(f\"Variable {col}\")\n",
    "    i+=1"
   ]
  },
  {
   "cell_type": "markdown",
   "id": "f623b2f1",
   "metadata": {},
   "source": [
    "### 2.4.4 Análisis bivariado\n",
    "\n",
    "En esta sección se realiza un análisis bivariado de la variable objetivo vs el resto de variables."
   ]
  },
  {
   "cell_type": "markdown",
   "id": "dc2dc178",
   "metadata": {},
   "source": [
    "#### Variable Fraude vs Genero\n",
    "\n",
    "Al analizar la variable Fraude vs Genero, se observa levemente un mayor número de casos de fraude en el género femenino, pero no es algo completamente concluyente.\n"
   ]
  },
  {
   "cell_type": "code",
   "execution_count": 70,
   "id": "35300890",
   "metadata": {},
   "outputs": [
    {
     "data": {
      "text/plain": [
       "<AxesSubplot:xlabel='genero'>"
      ]
     },
     "execution_count": 70,
     "metadata": {},
     "output_type": "execute_result"
    },
    {
     "data": {
      "image/png": "[encoded data removed]",
      "text/plain": [
       "<Figure size 576x216 with 1 Axes>"
      ]
     },
     "metadata": {},
     "output_type": "display_data"
    }
   ],
   "source": [
    "pd.crosstab(index=df1['genero'], columns=df1.fraude, margins=False, normalize='index').plot(kind='bar', stacked=True)"
   ]
  },
  {
   "cell_type": "code",
   "execution_count": 71,
   "id": "fae35e15",
   "metadata": {
    "scrolled": false
   },
   "outputs": [
    {
     "data": {
      "text/html": [
       "<div>\n",
       "<style scoped>\n",
       "    .dataframe tbody tr th:only-of-type {\n",
       "        vertical-align: middle;\n",
       "    }\n",
       "\n",
       "    .dataframe tbody tr th {\n",
       "        vertical-align: top;\n",
       "    }\n",
       "\n",
       "    .dataframe thead th {\n",
       "        text-align: right;\n",
       "    }\n",
       "</style>\n",
       "<table border=\"1\" class=\"dataframe\">\n",
       "  <thead>\n",
       "    <tr style=\"text-align: right;\">\n",
       "      <th>fraude</th>\n",
       "      <th>False</th>\n",
       "      <th>True</th>\n",
       "    </tr>\n",
       "    <tr>\n",
       "      <th>genero</th>\n",
       "      <th></th>\n",
       "      <th></th>\n",
       "    </tr>\n",
       "  </thead>\n",
       "  <tbody>\n",
       "    <tr>\n",
       "      <th>F</th>\n",
       "      <td>96.886071</td>\n",
       "      <td>3.113929</td>\n",
       "    </tr>\n",
       "    <tr>\n",
       "      <th>M</th>\n",
       "      <td>97.129965</td>\n",
       "      <td>2.870035</td>\n",
       "    </tr>\n",
       "    <tr>\n",
       "      <th>Otro</th>\n",
       "      <td>96.776557</td>\n",
       "      <td>3.223443</td>\n",
       "    </tr>\n",
       "  </tbody>\n",
       "</table>\n",
       "</div>"
      ],
      "text/plain": [
       "fraude      False      True\n",
       "genero                     \n",
       "F       96.886071  3.113929\n",
       "M       97.129965  2.870035\n",
       "Otro    96.776557  3.223443"
      ]
     },
     "execution_count": 71,
     "metadata": {},
     "output_type": "execute_result"
    }
   ],
   "source": [
    "pd.crosstab(index=df1['genero'], columns=df1.fraude, margins=False, normalize='index')*100"
   ]
  },
  {
   "cell_type": "code",
   "execution_count": 72,
   "id": "2bef0d55",
   "metadata": {},
   "outputs": [
    {
     "data": {
      "text/html": [
       "<div>\n",
       "<style scoped>\n",
       "    .dataframe tbody tr th:only-of-type {\n",
       "        vertical-align: middle;\n",
       "    }\n",
       "\n",
       "    .dataframe tbody tr th {\n",
       "        vertical-align: top;\n",
       "    }\n",
       "\n",
       "    .dataframe thead th {\n",
       "        text-align: right;\n",
       "    }\n",
       "</style>\n",
       "<table border=\"1\" class=\"dataframe\">\n",
       "  <thead>\n",
       "    <tr style=\"text-align: right;\">\n",
       "      <th>fraude</th>\n",
       "      <th>False</th>\n",
       "      <th>True</th>\n",
       "    </tr>\n",
       "    <tr>\n",
       "      <th>genero</th>\n",
       "      <th></th>\n",
       "      <th></th>\n",
       "    </tr>\n",
       "  </thead>\n",
       "  <tbody>\n",
       "    <tr>\n",
       "      <th>F</th>\n",
       "      <td>10392</td>\n",
       "      <td>334</td>\n",
       "    </tr>\n",
       "    <tr>\n",
       "      <th>M</th>\n",
       "      <td>13131</td>\n",
       "      <td>388</td>\n",
       "    </tr>\n",
       "    <tr>\n",
       "      <th>Otro</th>\n",
       "      <td>2642</td>\n",
       "      <td>88</td>\n",
       "    </tr>\n",
       "  </tbody>\n",
       "</table>\n",
       "</div>"
      ],
      "text/plain": [
       "fraude  False  True\n",
       "genero             \n",
       "F       10392   334\n",
       "M       13131   388\n",
       "Otro     2642    88"
      ]
     },
     "execution_count": 72,
     "metadata": {},
     "output_type": "execute_result"
    }
   ],
   "source": [
    "pd.crosstab(index=df1['genero'], columns=df1.fraude, margins=False)"
   ]
  },
  {
   "cell_type": "markdown",
   "id": "553d084b",
   "metadata": {},
   "source": [
    "#### Variable Fraude vs Ciudad\n",
    "\n",
    "Al analizar la variable Fraude vs Ciudad, se observa levemente un menor numero de casos de fraude en la ciudad de Monterry, pero no es algo completamente concluyente."
   ]
  },
  {
   "cell_type": "code",
   "execution_count": 73,
   "id": "024f23db",
   "metadata": {},
   "outputs": [
    {
     "data": {
      "text/plain": [
       "<AxesSubplot:xlabel='ciudad'>"
      ]
     },
     "execution_count": 73,
     "metadata": {},
     "output_type": "execute_result"
    },
    {
     "data": {
      "image/png": "[encoded data removed]",
      "text/plain": [
       "<Figure size 576x216 with 1 Axes>"
      ]
     },
     "metadata": {},
     "output_type": "display_data"
    }
   ],
   "source": [
    "pd.crosstab(index=df1['ciudad'], columns=df1.fraude, margins=False, normalize='index').plot(kind='bar', stacked=True)"
   ]
  },
  {
   "cell_type": "code",
   "execution_count": 74,
   "id": "4fa0baa1",
   "metadata": {
    "scrolled": true
   },
   "outputs": [
    {
     "data": {
      "text/html": [
       "<div>\n",
       "<style scoped>\n",
       "    .dataframe tbody tr th:only-of-type {\n",
       "        vertical-align: middle;\n",
       "    }\n",
       "\n",
       "    .dataframe tbody tr th {\n",
       "        vertical-align: top;\n",
       "    }\n",
       "\n",
       "    .dataframe thead th {\n",
       "        text-align: right;\n",
       "    }\n",
       "</style>\n",
       "<table border=\"1\" class=\"dataframe\">\n",
       "  <thead>\n",
       "    <tr style=\"text-align: right;\">\n",
       "      <th>fraude</th>\n",
       "      <th>False</th>\n",
       "      <th>True</th>\n",
       "    </tr>\n",
       "    <tr>\n",
       "      <th>ciudad</th>\n",
       "      <th></th>\n",
       "      <th></th>\n",
       "    </tr>\n",
       "  </thead>\n",
       "  <tbody>\n",
       "    <tr>\n",
       "      <th>Guadalajara</th>\n",
       "      <td>96.921471</td>\n",
       "      <td>3.078529</td>\n",
       "    </tr>\n",
       "    <tr>\n",
       "      <th>Merida</th>\n",
       "      <td>96.809359</td>\n",
       "      <td>3.190641</td>\n",
       "    </tr>\n",
       "    <tr>\n",
       "      <th>Monterrey</th>\n",
       "      <td>97.301673</td>\n",
       "      <td>2.698327</td>\n",
       "    </tr>\n",
       "    <tr>\n",
       "      <th>Otro</th>\n",
       "      <td>96.968659</td>\n",
       "      <td>3.031341</td>\n",
       "    </tr>\n",
       "    <tr>\n",
       "      <th>Toluca</th>\n",
       "      <td>97.047786</td>\n",
       "      <td>2.952214</td>\n",
       "    </tr>\n",
       "  </tbody>\n",
       "</table>\n",
       "</div>"
      ],
      "text/plain": [
       "fraude           False      True\n",
       "ciudad                          \n",
       "Guadalajara  96.921471  3.078529\n",
       "Merida       96.809359  3.190641\n",
       "Monterrey    97.301673  2.698327\n",
       "Otro         96.968659  3.031341\n",
       "Toluca       97.047786  2.952214"
      ]
     },
     "execution_count": 74,
     "metadata": {},
     "output_type": "execute_result"
    }
   ],
   "source": [
    "pd.crosstab(index=df1['ciudad'], columns=df1.fraude, margins=False, normalize='index')*100"
   ]
  },
  {
   "cell_type": "code",
   "execution_count": 75,
   "id": "ea093eaa",
   "metadata": {},
   "outputs": [
    {
     "data": {
      "text/html": [
       "<div>\n",
       "<style scoped>\n",
       "    .dataframe tbody tr th:only-of-type {\n",
       "        vertical-align: middle;\n",
       "    }\n",
       "\n",
       "    .dataframe tbody tr th {\n",
       "        vertical-align: top;\n",
       "    }\n",
       "\n",
       "    .dataframe thead th {\n",
       "        text-align: right;\n",
       "    }\n",
       "</style>\n",
       "<table border=\"1\" class=\"dataframe\">\n",
       "  <thead>\n",
       "    <tr style=\"text-align: right;\">\n",
       "      <th>fraude</th>\n",
       "      <th>False</th>\n",
       "      <th>True</th>\n",
       "    </tr>\n",
       "    <tr>\n",
       "      <th>ciudad</th>\n",
       "      <th></th>\n",
       "      <th></th>\n",
       "    </tr>\n",
       "  </thead>\n",
       "  <tbody>\n",
       "    <tr>\n",
       "      <th>Guadalajara</th>\n",
       "      <td>3715</td>\n",
       "      <td>118</td>\n",
       "    </tr>\n",
       "    <tr>\n",
       "      <th>Merida</th>\n",
       "      <td>3641</td>\n",
       "      <td>120</td>\n",
       "    </tr>\n",
       "    <tr>\n",
       "      <th>Monterrey</th>\n",
       "      <td>3606</td>\n",
       "      <td>100</td>\n",
       "    </tr>\n",
       "    <tr>\n",
       "      <th>Otro</th>\n",
       "      <td>11324</td>\n",
       "      <td>354</td>\n",
       "    </tr>\n",
       "    <tr>\n",
       "      <th>Toluca</th>\n",
       "      <td>3879</td>\n",
       "      <td>118</td>\n",
       "    </tr>\n",
       "  </tbody>\n",
       "</table>\n",
       "</div>"
      ],
      "text/plain": [
       "fraude       False  True\n",
       "ciudad                  \n",
       "Guadalajara   3715   118\n",
       "Merida        3641   120\n",
       "Monterrey     3606   100\n",
       "Otro         11324   354\n",
       "Toluca        3879   118"
      ]
     },
     "execution_count": 75,
     "metadata": {},
     "output_type": "execute_result"
    }
   ],
   "source": [
    "pd.crosstab(index=df1['ciudad'], columns=df1.fraude, margins=False)"
   ]
  },
  {
   "cell_type": "markdown",
   "id": "5fad147c",
   "metadata": {},
   "source": [
    "#### Variable Fraude vs Establecimiento\n",
    "\n",
    "Al analizar la variable Fraude vs Establecimiento, se observa una distribución de los casos de fraude muy similar en los distintos establecimientos, nada que sea muy concluyente."
   ]
  },
  {
   "cell_type": "code",
   "execution_count": 76,
   "id": "597d8c80",
   "metadata": {
    "scrolled": true
   },
   "outputs": [
    {
     "data": {
      "text/plain": [
       "<AxesSubplot:xlabel='establecimiento'>"
      ]
     },
     "execution_count": 76,
     "metadata": {},
     "output_type": "execute_result"
    },
    {
     "data": {
      "image/png": "[encoded data removed]",
      "text/plain": [
       "<Figure size 576x216 with 1 Axes>"
      ]
     },
     "metadata": {},
     "output_type": "display_data"
    }
   ],
   "source": [
    "pd.crosstab(index=df1['establecimiento'], columns=df1.fraude, margins=False, normalize='index').plot(kind='bar', stacked=True)"
   ]
  },
  {
   "cell_type": "code",
   "execution_count": 77,
   "id": "a0d5f728",
   "metadata": {
    "scrolled": true
   },
   "outputs": [
    {
     "data": {
      "text/html": [
       "<div>\n",
       "<style scoped>\n",
       "    .dataframe tbody tr th:only-of-type {\n",
       "        vertical-align: middle;\n",
       "    }\n",
       "\n",
       "    .dataframe tbody tr th {\n",
       "        vertical-align: top;\n",
       "    }\n",
       "\n",
       "    .dataframe thead th {\n",
       "        text-align: right;\n",
       "    }\n",
       "</style>\n",
       "<table border=\"1\" class=\"dataframe\">\n",
       "  <thead>\n",
       "    <tr style=\"text-align: right;\">\n",
       "      <th>fraude</th>\n",
       "      <th>False</th>\n",
       "      <th>True</th>\n",
       "    </tr>\n",
       "    <tr>\n",
       "      <th>establecimiento</th>\n",
       "      <th></th>\n",
       "      <th></th>\n",
       "    </tr>\n",
       "  </thead>\n",
       "  <tbody>\n",
       "    <tr>\n",
       "      <th>Abarrotes</th>\n",
       "      <td>97.013177</td>\n",
       "      <td>2.986823</td>\n",
       "    </tr>\n",
       "    <tr>\n",
       "      <th>Farmacia</th>\n",
       "      <td>97.162246</td>\n",
       "      <td>2.837754</td>\n",
       "    </tr>\n",
       "    <tr>\n",
       "      <th>MPago</th>\n",
       "      <td>96.889022</td>\n",
       "      <td>3.110978</td>\n",
       "    </tr>\n",
       "    <tr>\n",
       "      <th>Otro</th>\n",
       "      <td>96.867279</td>\n",
       "      <td>3.132721</td>\n",
       "    </tr>\n",
       "    <tr>\n",
       "      <th>Restaurante</th>\n",
       "      <td>97.307470</td>\n",
       "      <td>2.692530</td>\n",
       "    </tr>\n",
       "    <tr>\n",
       "      <th>Super</th>\n",
       "      <td>97.001764</td>\n",
       "      <td>2.998236</td>\n",
       "    </tr>\n",
       "  </tbody>\n",
       "</table>\n",
       "</div>"
      ],
      "text/plain": [
       "fraude               False      True\n",
       "establecimiento                     \n",
       "Abarrotes        97.013177  2.986823\n",
       "Farmacia         97.162246  2.837754\n",
       "MPago            96.889022  3.110978\n",
       "Otro             96.867279  3.132721\n",
       "Restaurante      97.307470  2.692530\n",
       "Super            97.001764  2.998236"
      ]
     },
     "execution_count": 77,
     "metadata": {},
     "output_type": "execute_result"
    }
   ],
   "source": [
    "pd.crosstab(index=df1['establecimiento'], columns=df1.fraude, margins=False, normalize='index')*100"
   ]
  },
  {
   "cell_type": "code",
   "execution_count": 78,
   "id": "8539837e",
   "metadata": {},
   "outputs": [
    {
     "data": {
      "text/html": [
       "<div>\n",
       "<style scoped>\n",
       "    .dataframe tbody tr th:only-of-type {\n",
       "        vertical-align: middle;\n",
       "    }\n",
       "\n",
       "    .dataframe tbody tr th {\n",
       "        vertical-align: top;\n",
       "    }\n",
       "\n",
       "    .dataframe thead th {\n",
       "        text-align: right;\n",
       "    }\n",
       "</style>\n",
       "<table border=\"1\" class=\"dataframe\">\n",
       "  <thead>\n",
       "    <tr style=\"text-align: right;\">\n",
       "      <th>fraude</th>\n",
       "      <th>False</th>\n",
       "      <th>True</th>\n",
       "    </tr>\n",
       "    <tr>\n",
       "      <th>establecimiento</th>\n",
       "      <th></th>\n",
       "      <th></th>\n",
       "    </tr>\n",
       "  </thead>\n",
       "  <tbody>\n",
       "    <tr>\n",
       "      <th>Abarrotes</th>\n",
       "      <td>3313</td>\n",
       "      <td>102</td>\n",
       "    </tr>\n",
       "    <tr>\n",
       "      <th>Farmacia</th>\n",
       "      <td>3150</td>\n",
       "      <td>92</td>\n",
       "    </tr>\n",
       "    <tr>\n",
       "      <th>MPago</th>\n",
       "      <td>3239</td>\n",
       "      <td>104</td>\n",
       "    </tr>\n",
       "    <tr>\n",
       "      <th>Otro</th>\n",
       "      <td>9802</td>\n",
       "      <td>317</td>\n",
       "    </tr>\n",
       "    <tr>\n",
       "      <th>Restaurante</th>\n",
       "      <td>3361</td>\n",
       "      <td>93</td>\n",
       "    </tr>\n",
       "    <tr>\n",
       "      <th>Super</th>\n",
       "      <td>3300</td>\n",
       "      <td>102</td>\n",
       "    </tr>\n",
       "  </tbody>\n",
       "</table>\n",
       "</div>"
      ],
      "text/plain": [
       "fraude           False  True\n",
       "establecimiento             \n",
       "Abarrotes         3313   102\n",
       "Farmacia          3150    92\n",
       "MPago             3239   104\n",
       "Otro              9802   317\n",
       "Restaurante       3361    93\n",
       "Super             3300   102"
      ]
     },
     "execution_count": 78,
     "metadata": {},
     "output_type": "execute_result"
    }
   ],
   "source": [
    "pd.crosstab(index=df1['establecimiento'], columns=df1.fraude, margins=False)"
   ]
  },
  {
   "cell_type": "markdown",
   "id": "5e1839b2",
   "metadata": {},
   "source": [
    "#### Variable Fraude vs tipo_tc\n",
    "\n",
    "Al analizar la variable Fraude vs tipo_tc, se observa levemente un mayor número de casos de fraude cuando el tipo de tarjeta es física."
   ]
  },
  {
   "cell_type": "code",
   "execution_count": 79,
   "id": "6f8b0f6b",
   "metadata": {
    "scrolled": false
   },
   "outputs": [
    {
     "data": {
      "text/plain": [
       "<AxesSubplot:xlabel='tipo_tc'>"
      ]
     },
     "execution_count": 79,
     "metadata": {},
     "output_type": "execute_result"
    },
    {
     "data": {
      "image/png": "[encoded data removed]",
      "text/plain": [
       "<Figure size 576x216 with 1 Axes>"
      ]
     },
     "metadata": {},
     "output_type": "display_data"
    }
   ],
   "source": [
    "pd.crosstab(index=df1['tipo_tc'], columns=df1.fraude, margins=False, normalize='index').plot(kind='bar', stacked=True)"
   ]
  },
  {
   "cell_type": "code",
   "execution_count": 80,
   "id": "4c1f286c",
   "metadata": {
    "scrolled": false
   },
   "outputs": [
    {
     "data": {
      "text/html": [
       "<div>\n",
       "<style scoped>\n",
       "    .dataframe tbody tr th:only-of-type {\n",
       "        vertical-align: middle;\n",
       "    }\n",
       "\n",
       "    .dataframe tbody tr th {\n",
       "        vertical-align: top;\n",
       "    }\n",
       "\n",
       "    .dataframe thead th {\n",
       "        text-align: right;\n",
       "    }\n",
       "</style>\n",
       "<table border=\"1\" class=\"dataframe\">\n",
       "  <thead>\n",
       "    <tr style=\"text-align: right;\">\n",
       "      <th>fraude</th>\n",
       "      <th>False</th>\n",
       "      <th>True</th>\n",
       "    </tr>\n",
       "    <tr>\n",
       "      <th>tipo_tc</th>\n",
       "      <th></th>\n",
       "      <th></th>\n",
       "    </tr>\n",
       "  </thead>\n",
       "  <tbody>\n",
       "    <tr>\n",
       "      <th>Fisica</th>\n",
       "      <td>96.936994</td>\n",
       "      <td>3.063006</td>\n",
       "    </tr>\n",
       "    <tr>\n",
       "      <th>Virtual</th>\n",
       "      <td>97.138256</td>\n",
       "      <td>2.861744</td>\n",
       "    </tr>\n",
       "  </tbody>\n",
       "</table>\n",
       "</div>"
      ],
      "text/plain": [
       "fraude       False      True\n",
       "tipo_tc                     \n",
       "Fisica   96.936994  3.063006\n",
       "Virtual  97.138256  2.861744"
      ]
     },
     "execution_count": 80,
     "metadata": {},
     "output_type": "execute_result"
    }
   ],
   "source": [
    "pd.crosstab(index=df1['tipo_tc'], columns=df1.fraude, margins=False, normalize='index')*100"
   ]
  },
  {
   "cell_type": "code",
   "execution_count": 81,
   "id": "f1804667",
   "metadata": {},
   "outputs": [
    {
     "data": {
      "text/html": [
       "<div>\n",
       "<style scoped>\n",
       "    .dataframe tbody tr th:only-of-type {\n",
       "        vertical-align: middle;\n",
       "    }\n",
       "\n",
       "    .dataframe tbody tr th {\n",
       "        vertical-align: top;\n",
       "    }\n",
       "\n",
       "    .dataframe thead th {\n",
       "        text-align: right;\n",
       "    }\n",
       "</style>\n",
       "<table border=\"1\" class=\"dataframe\">\n",
       "  <thead>\n",
       "    <tr style=\"text-align: right;\">\n",
       "      <th>fraude</th>\n",
       "      <th>False</th>\n",
       "      <th>True</th>\n",
       "    </tr>\n",
       "    <tr>\n",
       "      <th>tipo_tc</th>\n",
       "      <th></th>\n",
       "      <th></th>\n",
       "    </tr>\n",
       "  </thead>\n",
       "  <tbody>\n",
       "    <tr>\n",
       "      <th>Fisica</th>\n",
       "      <td>18324</td>\n",
       "      <td>579</td>\n",
       "    </tr>\n",
       "    <tr>\n",
       "      <th>Virtual</th>\n",
       "      <td>7841</td>\n",
       "      <td>231</td>\n",
       "    </tr>\n",
       "  </tbody>\n",
       "</table>\n",
       "</div>"
      ],
      "text/plain": [
       "fraude   False  True\n",
       "tipo_tc             \n",
       "Fisica   18324   579\n",
       "Virtual   7841   231"
      ]
     },
     "execution_count": 81,
     "metadata": {},
     "output_type": "execute_result"
    }
   ],
   "source": [
    "pd.crosstab(index=df1['tipo_tc'], columns=df1.fraude, margins=False)"
   ]
  },
  {
   "cell_type": "markdown",
   "id": "4691053c",
   "metadata": {},
   "source": [
    "#### Variable Fraude vs is_prime\n",
    "\n",
    "Al analizar la variable Fraude vs is_prime, se observa un mayor número de casos de fraude cuando el usuario no es prime, lo cual puede empezar a generar alertas."
   ]
  },
  {
   "cell_type": "code",
   "execution_count": 82,
   "id": "cb933edb",
   "metadata": {
    "scrolled": true
   },
   "outputs": [
    {
     "data": {
      "text/plain": [
       "<AxesSubplot:xlabel='is_prime'>"
      ]
     },
     "execution_count": 82,
     "metadata": {},
     "output_type": "execute_result"
    },
    {
     "data": {
      "image/png": "[encoded data removed]",
      "text/plain": [
       "<Figure size 576x216 with 1 Axes>"
      ]
     },
     "metadata": {},
     "output_type": "display_data"
    }
   ],
   "source": [
    "pd.crosstab(index=df1['is_prime'], columns=df1.fraude, margins=False, normalize='index').plot(kind='bar', stacked=True)"
   ]
  },
  {
   "cell_type": "code",
   "execution_count": 83,
   "id": "31270172",
   "metadata": {
    "scrolled": true
   },
   "outputs": [
    {
     "data": {
      "text/html": [
       "<div>\n",
       "<style scoped>\n",
       "    .dataframe tbody tr th:only-of-type {\n",
       "        vertical-align: middle;\n",
       "    }\n",
       "\n",
       "    .dataframe tbody tr th {\n",
       "        vertical-align: top;\n",
       "    }\n",
       "\n",
       "    .dataframe thead th {\n",
       "        text-align: right;\n",
       "    }\n",
       "</style>\n",
       "<table border=\"1\" class=\"dataframe\">\n",
       "  <thead>\n",
       "    <tr style=\"text-align: right;\">\n",
       "      <th>fraude</th>\n",
       "      <th>False</th>\n",
       "      <th>True</th>\n",
       "    </tr>\n",
       "    <tr>\n",
       "      <th>is_prime</th>\n",
       "      <th></th>\n",
       "      <th></th>\n",
       "    </tr>\n",
       "  </thead>\n",
       "  <tbody>\n",
       "    <tr>\n",
       "      <th>False</th>\n",
       "      <td>96.967885</td>\n",
       "      <td>3.032115</td>\n",
       "    </tr>\n",
       "    <tr>\n",
       "      <th>True</th>\n",
       "      <td>97.190222</td>\n",
       "      <td>2.809778</td>\n",
       "    </tr>\n",
       "  </tbody>\n",
       "</table>\n",
       "</div>"
      ],
      "text/plain": [
       "fraude        False      True\n",
       "is_prime                     \n",
       "False     96.967885  3.032115\n",
       "True      97.190222  2.809778"
      ]
     },
     "execution_count": 83,
     "metadata": {},
     "output_type": "execute_result"
    }
   ],
   "source": [
    "pd.crosstab(index=df1['is_prime'], columns=df1.fraude, margins=False, normalize='index')*100"
   ]
  },
  {
   "cell_type": "code",
   "execution_count": 84,
   "id": "5a7ce2dc",
   "metadata": {
    "scrolled": true
   },
   "outputs": [
    {
     "data": {
      "text/html": [
       "<div>\n",
       "<style scoped>\n",
       "    .dataframe tbody tr th:only-of-type {\n",
       "        vertical-align: middle;\n",
       "    }\n",
       "\n",
       "    .dataframe tbody tr th {\n",
       "        vertical-align: top;\n",
       "    }\n",
       "\n",
       "    .dataframe thead th {\n",
       "        text-align: right;\n",
       "    }\n",
       "</style>\n",
       "<table border=\"1\" class=\"dataframe\">\n",
       "  <thead>\n",
       "    <tr style=\"text-align: right;\">\n",
       "      <th>fraude</th>\n",
       "      <th>False</th>\n",
       "      <th>True</th>\n",
       "    </tr>\n",
       "    <tr>\n",
       "      <th>is_prime</th>\n",
       "      <th></th>\n",
       "      <th></th>\n",
       "    </tr>\n",
       "  </thead>\n",
       "  <tbody>\n",
       "    <tr>\n",
       "      <th>False</th>\n",
       "      <td>22706</td>\n",
       "      <td>710</td>\n",
       "    </tr>\n",
       "    <tr>\n",
       "      <th>True</th>\n",
       "      <td>3459</td>\n",
       "      <td>100</td>\n",
       "    </tr>\n",
       "  </tbody>\n",
       "</table>\n",
       "</div>"
      ],
      "text/plain": [
       "fraude    False  True\n",
       "is_prime             \n",
       "False     22706   710\n",
       "True       3459   100"
      ]
     },
     "execution_count": 84,
     "metadata": {},
     "output_type": "execute_result"
    }
   ],
   "source": [
    "pd.crosstab(index=df1['is_prime'], columns=df1.fraude, margins=False)"
   ]
  },
  {
   "cell_type": "markdown",
   "id": "518bf7e0",
   "metadata": {},
   "source": [
    "#### Variable Fraude vs dia_numero\n",
    "\n",
    "Al analizar la variable Fraude vs dia calendario, se observa una distribución de los casos de fraude muy similar en los distintos días, nada que sea muy concluyente."
   ]
  },
  {
   "cell_type": "code",
   "execution_count": 85,
   "id": "67ecc4bc",
   "metadata": {},
   "outputs": [
    {
     "data": {
      "text/plain": [
       "<AxesSubplot:xlabel='dia_numero'>"
      ]
     },
     "execution_count": 85,
     "metadata": {},
     "output_type": "execute_result"
    },
    {
     "data": {
      "image/png": "[encoded data removed]",
      "text/plain": [
       "<Figure size 1440x360 with 1 Axes>"
      ]
     },
     "metadata": {},
     "output_type": "display_data"
    }
   ],
   "source": [
    "pd.crosstab(index=df1['dia_numero'], columns=df1.fraude, margins=False, normalize='index').plot(kind='bar', stacked=True, figsize=(20, 5))"
   ]
  },
  {
   "cell_type": "code",
   "execution_count": 86,
   "id": "95af70d1",
   "metadata": {
    "scrolled": true
   },
   "outputs": [
    {
     "data": {
      "text/html": [
       "<div>\n",
       "<style scoped>\n",
       "    .dataframe tbody tr th:only-of-type {\n",
       "        vertical-align: middle;\n",
       "    }\n",
       "\n",
       "    .dataframe tbody tr th {\n",
       "        vertical-align: top;\n",
       "    }\n",
       "\n",
       "    .dataframe thead th {\n",
       "        text-align: right;\n",
       "    }\n",
       "</style>\n",
       "<table border=\"1\" class=\"dataframe\">\n",
       "  <thead>\n",
       "    <tr style=\"text-align: right;\">\n",
       "      <th>fraude</th>\n",
       "      <th>False</th>\n",
       "      <th>True</th>\n",
       "    </tr>\n",
       "    <tr>\n",
       "      <th>dia_numero</th>\n",
       "      <th></th>\n",
       "      <th></th>\n",
       "    </tr>\n",
       "  </thead>\n",
       "  <tbody>\n",
       "    <tr>\n",
       "      <th>2</th>\n",
       "      <td>97.021277</td>\n",
       "      <td>2.978723</td>\n",
       "    </tr>\n",
       "    <tr>\n",
       "      <th>3</th>\n",
       "      <td>96.604600</td>\n",
       "      <td>3.395400</td>\n",
       "    </tr>\n",
       "    <tr>\n",
       "      <th>4</th>\n",
       "      <td>97.330367</td>\n",
       "      <td>2.669633</td>\n",
       "    </tr>\n",
       "    <tr>\n",
       "      <th>5</th>\n",
       "      <td>96.842105</td>\n",
       "      <td>3.157895</td>\n",
       "    </tr>\n",
       "    <tr>\n",
       "      <th>6</th>\n",
       "      <td>96.891747</td>\n",
       "      <td>3.108253</td>\n",
       "    </tr>\n",
       "    <tr>\n",
       "      <th>7</th>\n",
       "      <td>97.710718</td>\n",
       "      <td>2.289282</td>\n",
       "    </tr>\n",
       "    <tr>\n",
       "      <th>8</th>\n",
       "      <td>97.062024</td>\n",
       "      <td>2.937976</td>\n",
       "    </tr>\n",
       "    <tr>\n",
       "      <th>9</th>\n",
       "      <td>96.929825</td>\n",
       "      <td>3.070175</td>\n",
       "    </tr>\n",
       "    <tr>\n",
       "      <th>10</th>\n",
       "      <td>97.928654</td>\n",
       "      <td>2.071346</td>\n",
       "    </tr>\n",
       "    <tr>\n",
       "      <th>11</th>\n",
       "      <td>97.219251</td>\n",
       "      <td>2.780749</td>\n",
       "    </tr>\n",
       "    <tr>\n",
       "      <th>12</th>\n",
       "      <td>96.800826</td>\n",
       "      <td>3.199174</td>\n",
       "    </tr>\n",
       "    <tr>\n",
       "      <th>13</th>\n",
       "      <td>96.898396</td>\n",
       "      <td>3.101604</td>\n",
       "    </tr>\n",
       "    <tr>\n",
       "      <th>14</th>\n",
       "      <td>97.285068</td>\n",
       "      <td>2.714932</td>\n",
       "    </tr>\n",
       "    <tr>\n",
       "      <th>15</th>\n",
       "      <td>96.533613</td>\n",
       "      <td>3.466387</td>\n",
       "    </tr>\n",
       "    <tr>\n",
       "      <th>16</th>\n",
       "      <td>96.069869</td>\n",
       "      <td>3.930131</td>\n",
       "    </tr>\n",
       "    <tr>\n",
       "      <th>17</th>\n",
       "      <td>97.024442</td>\n",
       "      <td>2.975558</td>\n",
       "    </tr>\n",
       "    <tr>\n",
       "      <th>18</th>\n",
       "      <td>97.008547</td>\n",
       "      <td>2.991453</td>\n",
       "    </tr>\n",
       "    <tr>\n",
       "      <th>19</th>\n",
       "      <td>97.219251</td>\n",
       "      <td>2.780749</td>\n",
       "    </tr>\n",
       "    <tr>\n",
       "      <th>20</th>\n",
       "      <td>96.224380</td>\n",
       "      <td>3.775620</td>\n",
       "    </tr>\n",
       "    <tr>\n",
       "      <th>21</th>\n",
       "      <td>96.739130</td>\n",
       "      <td>3.260870</td>\n",
       "    </tr>\n",
       "    <tr>\n",
       "      <th>22</th>\n",
       "      <td>96.551724</td>\n",
       "      <td>3.448276</td>\n",
       "    </tr>\n",
       "    <tr>\n",
       "      <th>23</th>\n",
       "      <td>96.857464</td>\n",
       "      <td>3.142536</td>\n",
       "    </tr>\n",
       "    <tr>\n",
       "      <th>24</th>\n",
       "      <td>97.412008</td>\n",
       "      <td>2.587992</td>\n",
       "    </tr>\n",
       "    <tr>\n",
       "      <th>25</th>\n",
       "      <td>97.568710</td>\n",
       "      <td>2.431290</td>\n",
       "    </tr>\n",
       "    <tr>\n",
       "      <th>26</th>\n",
       "      <td>96.976242</td>\n",
       "      <td>3.023758</td>\n",
       "    </tr>\n",
       "    <tr>\n",
       "      <th>27</th>\n",
       "      <td>97.842503</td>\n",
       "      <td>2.157497</td>\n",
       "    </tr>\n",
       "    <tr>\n",
       "      <th>28</th>\n",
       "      <td>96.280088</td>\n",
       "      <td>3.719912</td>\n",
       "    </tr>\n",
       "    <tr>\n",
       "      <th>29</th>\n",
       "      <td>96.724667</td>\n",
       "      <td>3.275333</td>\n",
       "    </tr>\n",
       "    <tr>\n",
       "      <th>30</th>\n",
       "      <td>97.379455</td>\n",
       "      <td>2.620545</td>\n",
       "    </tr>\n",
       "  </tbody>\n",
       "</table>\n",
       "</div>"
      ],
      "text/plain": [
       "fraude          False      True\n",
       "dia_numero                     \n",
       "2           97.021277  2.978723\n",
       "3           96.604600  3.395400\n",
       "4           97.330367  2.669633\n",
       "5           96.842105  3.157895\n",
       "6           96.891747  3.108253\n",
       "7           97.710718  2.289282\n",
       "8           97.062024  2.937976\n",
       "9           96.929825  3.070175\n",
       "10          97.928654  2.071346\n",
       "11          97.219251  2.780749\n",
       "12          96.800826  3.199174\n",
       "13          96.898396  3.101604\n",
       "14          97.285068  2.714932\n",
       "15          96.533613  3.466387\n",
       "16          96.069869  3.930131\n",
       "17          97.024442  2.975558\n",
       "18          97.008547  2.991453\n",
       "19          97.219251  2.780749\n",
       "20          96.224380  3.775620\n",
       "21          96.739130  3.260870\n",
       "22          96.551724  3.448276\n",
       "23          96.857464  3.142536\n",
       "24          97.412008  2.587992\n",
       "25          97.568710  2.431290\n",
       "26          96.976242  3.023758\n",
       "27          97.842503  2.157497\n",
       "28          96.280088  3.719912\n",
       "29          96.724667  3.275333\n",
       "30          97.379455  2.620545"
      ]
     },
     "execution_count": 86,
     "metadata": {},
     "output_type": "execute_result"
    }
   ],
   "source": [
    "pd.crosstab(index=df1['dia_numero'], columns=df1.fraude, margins=False, normalize='index')*100"
   ]
  },
  {
   "cell_type": "code",
   "execution_count": 87,
   "id": "7e9aeed0",
   "metadata": {
    "scrolled": true
   },
   "outputs": [
    {
     "data": {
      "text/html": [
       "<div>\n",
       "<style scoped>\n",
       "    .dataframe tbody tr th:only-of-type {\n",
       "        vertical-align: middle;\n",
       "    }\n",
       "\n",
       "    .dataframe tbody tr th {\n",
       "        vertical-align: top;\n",
       "    }\n",
       "\n",
       "    .dataframe thead th {\n",
       "        text-align: right;\n",
       "    }\n",
       "</style>\n",
       "<table border=\"1\" class=\"dataframe\">\n",
       "  <thead>\n",
       "    <tr style=\"text-align: right;\">\n",
       "      <th>fraude</th>\n",
       "      <th>False</th>\n",
       "      <th>True</th>\n",
       "    </tr>\n",
       "    <tr>\n",
       "      <th>dia_numero</th>\n",
       "      <th></th>\n",
       "      <th></th>\n",
       "    </tr>\n",
       "  </thead>\n",
       "  <tbody>\n",
       "    <tr>\n",
       "      <th>2</th>\n",
       "      <td>912</td>\n",
       "      <td>28</td>\n",
       "    </tr>\n",
       "    <tr>\n",
       "      <th>3</th>\n",
       "      <td>882</td>\n",
       "      <td>31</td>\n",
       "    </tr>\n",
       "    <tr>\n",
       "      <th>4</th>\n",
       "      <td>875</td>\n",
       "      <td>24</td>\n",
       "    </tr>\n",
       "    <tr>\n",
       "      <th>5</th>\n",
       "      <td>920</td>\n",
       "      <td>30</td>\n",
       "    </tr>\n",
       "    <tr>\n",
       "      <th>6</th>\n",
       "      <td>904</td>\n",
       "      <td>29</td>\n",
       "    </tr>\n",
       "    <tr>\n",
       "      <th>7</th>\n",
       "      <td>939</td>\n",
       "      <td>22</td>\n",
       "    </tr>\n",
       "    <tr>\n",
       "      <th>8</th>\n",
       "      <td>892</td>\n",
       "      <td>27</td>\n",
       "    </tr>\n",
       "    <tr>\n",
       "      <th>9</th>\n",
       "      <td>884</td>\n",
       "      <td>28</td>\n",
       "    </tr>\n",
       "    <tr>\n",
       "      <th>10</th>\n",
       "      <td>851</td>\n",
       "      <td>18</td>\n",
       "    </tr>\n",
       "    <tr>\n",
       "      <th>11</th>\n",
       "      <td>909</td>\n",
       "      <td>26</td>\n",
       "    </tr>\n",
       "    <tr>\n",
       "      <th>12</th>\n",
       "      <td>938</td>\n",
       "      <td>31</td>\n",
       "    </tr>\n",
       "    <tr>\n",
       "      <th>13</th>\n",
       "      <td>906</td>\n",
       "      <td>29</td>\n",
       "    </tr>\n",
       "    <tr>\n",
       "      <th>14</th>\n",
       "      <td>860</td>\n",
       "      <td>24</td>\n",
       "    </tr>\n",
       "    <tr>\n",
       "      <th>15</th>\n",
       "      <td>919</td>\n",
       "      <td>33</td>\n",
       "    </tr>\n",
       "    <tr>\n",
       "      <th>16</th>\n",
       "      <td>880</td>\n",
       "      <td>36</td>\n",
       "    </tr>\n",
       "    <tr>\n",
       "      <th>17</th>\n",
       "      <td>913</td>\n",
       "      <td>28</td>\n",
       "    </tr>\n",
       "    <tr>\n",
       "      <th>18</th>\n",
       "      <td>908</td>\n",
       "      <td>28</td>\n",
       "    </tr>\n",
       "    <tr>\n",
       "      <th>19</th>\n",
       "      <td>909</td>\n",
       "      <td>26</td>\n",
       "    </tr>\n",
       "    <tr>\n",
       "      <th>20</th>\n",
       "      <td>892</td>\n",
       "      <td>35</td>\n",
       "    </tr>\n",
       "    <tr>\n",
       "      <th>21</th>\n",
       "      <td>890</td>\n",
       "      <td>30</td>\n",
       "    </tr>\n",
       "    <tr>\n",
       "      <th>22</th>\n",
       "      <td>896</td>\n",
       "      <td>32</td>\n",
       "    </tr>\n",
       "    <tr>\n",
       "      <th>23</th>\n",
       "      <td>863</td>\n",
       "      <td>28</td>\n",
       "    </tr>\n",
       "    <tr>\n",
       "      <th>24</th>\n",
       "      <td>941</td>\n",
       "      <td>25</td>\n",
       "    </tr>\n",
       "    <tr>\n",
       "      <th>25</th>\n",
       "      <td>923</td>\n",
       "      <td>23</td>\n",
       "    </tr>\n",
       "    <tr>\n",
       "      <th>26</th>\n",
       "      <td>898</td>\n",
       "      <td>28</td>\n",
       "    </tr>\n",
       "    <tr>\n",
       "      <th>27</th>\n",
       "      <td>907</td>\n",
       "      <td>20</td>\n",
       "    </tr>\n",
       "    <tr>\n",
       "      <th>28</th>\n",
       "      <td>880</td>\n",
       "      <td>34</td>\n",
       "    </tr>\n",
       "    <tr>\n",
       "      <th>29</th>\n",
       "      <td>945</td>\n",
       "      <td>32</td>\n",
       "    </tr>\n",
       "    <tr>\n",
       "      <th>30</th>\n",
       "      <td>929</td>\n",
       "      <td>25</td>\n",
       "    </tr>\n",
       "  </tbody>\n",
       "</table>\n",
       "</div>"
      ],
      "text/plain": [
       "fraude      False  True\n",
       "dia_numero             \n",
       "2             912    28\n",
       "3             882    31\n",
       "4             875    24\n",
       "5             920    30\n",
       "6             904    29\n",
       "7             939    22\n",
       "8             892    27\n",
       "9             884    28\n",
       "10            851    18\n",
       "11            909    26\n",
       "12            938    31\n",
       "13            906    29\n",
       "14            860    24\n",
       "15            919    33\n",
       "16            880    36\n",
       "17            913    28\n",
       "18            908    28\n",
       "19            909    26\n",
       "20            892    35\n",
       "21            890    30\n",
       "22            896    32\n",
       "23            863    28\n",
       "24            941    25\n",
       "25            923    23\n",
       "26            898    28\n",
       "27            907    20\n",
       "28            880    34\n",
       "29            945    32\n",
       "30            929    25"
      ]
     },
     "execution_count": 87,
     "metadata": {},
     "output_type": "execute_result"
    }
   ],
   "source": [
    "pd.crosstab(index=df1['dia_numero'], columns=df1.fraude, margins=False)"
   ]
  },
  {
   "cell_type": "markdown",
   "id": "c2ef744b",
   "metadata": {},
   "source": [
    "#### Variable Fraude vs dias_semana\n",
    "\n",
    "Al analizar la variable Fraude vs dias_semana, se observa levemente un mayor número de casos de fraude el día jueves."
   ]
  },
  {
   "cell_type": "code",
   "execution_count": 88,
   "id": "f276e94a",
   "metadata": {
    "scrolled": true
   },
   "outputs": [
    {
     "data": {
      "text/plain": [
       "<AxesSubplot:xlabel='dias_semana_orden'>"
      ]
     },
     "execution_count": 88,
     "metadata": {},
     "output_type": "execute_result"
    },
    {
     "data": {
      "image/png": "[encoded data removed]",
      "text/plain": [
       "<Figure size 576x216 with 1 Axes>"
      ]
     },
     "metadata": {},
     "output_type": "display_data"
    }
   ],
   "source": [
    "pd.crosstab(index=df1['dias_semana_orden'], columns=df1.fraude, margins=False, normalize='index').plot(kind='bar', stacked=True)"
   ]
  },
  {
   "cell_type": "code",
   "execution_count": 89,
   "id": "121bf300",
   "metadata": {
    "scrolled": true
   },
   "outputs": [
    {
     "data": {
      "text/html": [
       "<div>\n",
       "<style scoped>\n",
       "    .dataframe tbody tr th:only-of-type {\n",
       "        vertical-align: middle;\n",
       "    }\n",
       "\n",
       "    .dataframe tbody tr th {\n",
       "        vertical-align: top;\n",
       "    }\n",
       "\n",
       "    .dataframe thead th {\n",
       "        text-align: right;\n",
       "    }\n",
       "</style>\n",
       "<table border=\"1\" class=\"dataframe\">\n",
       "  <thead>\n",
       "    <tr style=\"text-align: right;\">\n",
       "      <th>fraude</th>\n",
       "      <th>False</th>\n",
       "      <th>True</th>\n",
       "    </tr>\n",
       "    <tr>\n",
       "      <th>dias_semana_orden</th>\n",
       "      <th></th>\n",
       "      <th></th>\n",
       "    </tr>\n",
       "  </thead>\n",
       "  <tbody>\n",
       "    <tr>\n",
       "      <th>Lunes</th>\n",
       "      <td>96.963998</td>\n",
       "      <td>3.036002</td>\n",
       "    </tr>\n",
       "    <tr>\n",
       "      <th>Martes</th>\n",
       "      <td>97.010057</td>\n",
       "      <td>2.989943</td>\n",
       "    </tr>\n",
       "    <tr>\n",
       "      <th>Miércoles</th>\n",
       "      <td>96.716102</td>\n",
       "      <td>3.283898</td>\n",
       "    </tr>\n",
       "    <tr>\n",
       "      <th>Jueves</th>\n",
       "      <td>96.856709</td>\n",
       "      <td>3.143291</td>\n",
       "    </tr>\n",
       "    <tr>\n",
       "      <th>Viernes</th>\n",
       "      <td>97.235023</td>\n",
       "      <td>2.764977</td>\n",
       "    </tr>\n",
       "    <tr>\n",
       "      <th>Sábado</th>\n",
       "      <td>97.282024</td>\n",
       "      <td>2.717976</td>\n",
       "    </tr>\n",
       "    <tr>\n",
       "      <th>Domingo</th>\n",
       "      <td>96.957672</td>\n",
       "      <td>3.042328</td>\n",
       "    </tr>\n",
       "  </tbody>\n",
       "</table>\n",
       "</div>"
      ],
      "text/plain": [
       "fraude                 False      True\n",
       "dias_semana_orden                     \n",
       "Lunes              96.963998  3.036002\n",
       "Martes             97.010057  2.989943\n",
       "Miércoles          96.716102  3.283898\n",
       "Jueves             96.856709  3.143291\n",
       "Viernes            97.235023  2.764977\n",
       "Sábado             97.282024  2.717976\n",
       "Domingo            96.957672  3.042328"
      ]
     },
     "execution_count": 89,
     "metadata": {},
     "output_type": "execute_result"
    }
   ],
   "source": [
    "pd.crosstab(index=df1['dias_semana_orden'], columns=df1.fraude, margins=False, normalize='index')*100"
   ]
  },
  {
   "cell_type": "code",
   "execution_count": 90,
   "id": "437f31c0",
   "metadata": {},
   "outputs": [
    {
     "data": {
      "text/html": [
       "<div>\n",
       "<style scoped>\n",
       "    .dataframe tbody tr th:only-of-type {\n",
       "        vertical-align: middle;\n",
       "    }\n",
       "\n",
       "    .dataframe tbody tr th {\n",
       "        vertical-align: top;\n",
       "    }\n",
       "\n",
       "    .dataframe thead th {\n",
       "        text-align: right;\n",
       "    }\n",
       "</style>\n",
       "<table border=\"1\" class=\"dataframe\">\n",
       "  <thead>\n",
       "    <tr style=\"text-align: right;\">\n",
       "      <th>fraude</th>\n",
       "      <th>False</th>\n",
       "      <th>True</th>\n",
       "    </tr>\n",
       "    <tr>\n",
       "      <th>dias_semana_orden</th>\n",
       "      <th></th>\n",
       "      <th></th>\n",
       "    </tr>\n",
       "  </thead>\n",
       "  <tbody>\n",
       "    <tr>\n",
       "      <th>Lunes</th>\n",
       "      <td>3609</td>\n",
       "      <td>113</td>\n",
       "    </tr>\n",
       "    <tr>\n",
       "      <th>Martes</th>\n",
       "      <td>3569</td>\n",
       "      <td>110</td>\n",
       "    </tr>\n",
       "    <tr>\n",
       "      <th>Miércoles</th>\n",
       "      <td>3652</td>\n",
       "      <td>124</td>\n",
       "    </tr>\n",
       "    <tr>\n",
       "      <th>Jueves</th>\n",
       "      <td>4468</td>\n",
       "      <td>145</td>\n",
       "    </tr>\n",
       "    <tr>\n",
       "      <th>Viernes</th>\n",
       "      <td>3587</td>\n",
       "      <td>102</td>\n",
       "    </tr>\n",
       "    <tr>\n",
       "      <th>Sábado</th>\n",
       "      <td>3615</td>\n",
       "      <td>101</td>\n",
       "    </tr>\n",
       "    <tr>\n",
       "      <th>Domingo</th>\n",
       "      <td>3665</td>\n",
       "      <td>115</td>\n",
       "    </tr>\n",
       "  </tbody>\n",
       "</table>\n",
       "</div>"
      ],
      "text/plain": [
       "fraude             False  True\n",
       "dias_semana_orden             \n",
       "Lunes               3609   113\n",
       "Martes              3569   110\n",
       "Miércoles           3652   124\n",
       "Jueves              4468   145\n",
       "Viernes             3587   102\n",
       "Sábado              3615   101\n",
       "Domingo             3665   115"
      ]
     },
     "execution_count": 90,
     "metadata": {},
     "output_type": "execute_result"
    }
   ],
   "source": [
    "pd.crosstab(index=df1['dias_semana_orden'], columns=df1.fraude, margins=False)"
   ]
  },
  {
   "cell_type": "markdown",
   "id": "05e166c9",
   "metadata": {},
   "source": [
    "#### Variable Fraude vs hora\n",
    "\n",
    "Al analizar la variable Fraude vs hora, se observa una distribución de los casos de fraude muy similar en las distintos horas, nada que sea muy concluyente."
   ]
  },
  {
   "cell_type": "code",
   "execution_count": 91,
   "id": "a69d4b6c",
   "metadata": {
    "scrolled": true
   },
   "outputs": [
    {
     "data": {
      "text/plain": [
       "<AxesSubplot:xlabel='hora'>"
      ]
     },
     "execution_count": 91,
     "metadata": {},
     "output_type": "execute_result"
    },
    {
     "data": {
      "image/png": "[encoded data removed]",
      "text/plain": [
       "<Figure size 1440x360 with 1 Axes>"
      ]
     },
     "metadata": {},
     "output_type": "display_data"
    }
   ],
   "source": [
    "pd.crosstab(index=df1['hora'], columns=df1.fraude, margins=False, normalize='index').plot(kind='bar', stacked=True, figsize=(20, 5))"
   ]
  },
  {
   "cell_type": "code",
   "execution_count": 92,
   "id": "b5147a6b",
   "metadata": {
    "scrolled": true
   },
   "outputs": [
    {
     "data": {
      "text/html": [
       "<div>\n",
       "<style scoped>\n",
       "    .dataframe tbody tr th:only-of-type {\n",
       "        vertical-align: middle;\n",
       "    }\n",
       "\n",
       "    .dataframe tbody tr th {\n",
       "        vertical-align: top;\n",
       "    }\n",
       "\n",
       "    .dataframe thead th {\n",
       "        text-align: right;\n",
       "    }\n",
       "</style>\n",
       "<table border=\"1\" class=\"dataframe\">\n",
       "  <thead>\n",
       "    <tr style=\"text-align: right;\">\n",
       "      <th>fraude</th>\n",
       "      <th>False</th>\n",
       "      <th>True</th>\n",
       "    </tr>\n",
       "    <tr>\n",
       "      <th>hora</th>\n",
       "      <th></th>\n",
       "      <th></th>\n",
       "    </tr>\n",
       "  </thead>\n",
       "  <tbody>\n",
       "    <tr>\n",
       "      <th>1</th>\n",
       "      <td>97.310924</td>\n",
       "      <td>2.689076</td>\n",
       "    </tr>\n",
       "    <tr>\n",
       "      <th>2</th>\n",
       "      <td>97.332186</td>\n",
       "      <td>2.667814</td>\n",
       "    </tr>\n",
       "    <tr>\n",
       "      <th>3</th>\n",
       "      <td>97.420464</td>\n",
       "      <td>2.579536</td>\n",
       "    </tr>\n",
       "    <tr>\n",
       "      <th>4</th>\n",
       "      <td>97.278912</td>\n",
       "      <td>2.721088</td>\n",
       "    </tr>\n",
       "    <tr>\n",
       "      <th>5</th>\n",
       "      <td>97.759336</td>\n",
       "      <td>2.240664</td>\n",
       "    </tr>\n",
       "    <tr>\n",
       "      <th>6</th>\n",
       "      <td>97.504160</td>\n",
       "      <td>2.495840</td>\n",
       "    </tr>\n",
       "    <tr>\n",
       "      <th>7</th>\n",
       "      <td>96.088020</td>\n",
       "      <td>3.911980</td>\n",
       "    </tr>\n",
       "    <tr>\n",
       "      <th>8</th>\n",
       "      <td>97.120419</td>\n",
       "      <td>2.879581</td>\n",
       "    </tr>\n",
       "    <tr>\n",
       "      <th>9</th>\n",
       "      <td>96.844004</td>\n",
       "      <td>3.155996</td>\n",
       "    </tr>\n",
       "    <tr>\n",
       "      <th>10</th>\n",
       "      <td>96.921797</td>\n",
       "      <td>3.078203</td>\n",
       "    </tr>\n",
       "    <tr>\n",
       "      <th>11</th>\n",
       "      <td>96.901893</td>\n",
       "      <td>3.098107</td>\n",
       "    </tr>\n",
       "    <tr>\n",
       "      <th>12</th>\n",
       "      <td>97.537379</td>\n",
       "      <td>2.462621</td>\n",
       "    </tr>\n",
       "    <tr>\n",
       "      <th>13</th>\n",
       "      <td>97.569757</td>\n",
       "      <td>2.430243</td>\n",
       "    </tr>\n",
       "    <tr>\n",
       "      <th>14</th>\n",
       "      <td>96.495726</td>\n",
       "      <td>3.504274</td>\n",
       "    </tr>\n",
       "    <tr>\n",
       "      <th>15</th>\n",
       "      <td>96.603148</td>\n",
       "      <td>3.396852</td>\n",
       "    </tr>\n",
       "    <tr>\n",
       "      <th>16</th>\n",
       "      <td>97.219882</td>\n",
       "      <td>2.780118</td>\n",
       "    </tr>\n",
       "    <tr>\n",
       "      <th>17</th>\n",
       "      <td>96.869565</td>\n",
       "      <td>3.130435</td>\n",
       "    </tr>\n",
       "    <tr>\n",
       "      <th>18</th>\n",
       "      <td>96.937086</td>\n",
       "      <td>3.062914</td>\n",
       "    </tr>\n",
       "    <tr>\n",
       "      <th>19</th>\n",
       "      <td>96.345515</td>\n",
       "      <td>3.654485</td>\n",
       "    </tr>\n",
       "    <tr>\n",
       "      <th>20</th>\n",
       "      <td>96.958855</td>\n",
       "      <td>3.041145</td>\n",
       "    </tr>\n",
       "    <tr>\n",
       "      <th>21</th>\n",
       "      <td>97.664721</td>\n",
       "      <td>2.335279</td>\n",
       "    </tr>\n",
       "    <tr>\n",
       "      <th>22</th>\n",
       "      <td>96.284063</td>\n",
       "      <td>3.715937</td>\n",
       "    </tr>\n",
       "    <tr>\n",
       "      <th>23</th>\n",
       "      <td>96.014172</td>\n",
       "      <td>3.985828</td>\n",
       "    </tr>\n",
       "  </tbody>\n",
       "</table>\n",
       "</div>"
      ],
      "text/plain": [
       "fraude      False      True\n",
       "hora                       \n",
       "1       97.310924  2.689076\n",
       "2       97.332186  2.667814\n",
       "3       97.420464  2.579536\n",
       "4       97.278912  2.721088\n",
       "5       97.759336  2.240664\n",
       "6       97.504160  2.495840\n",
       "7       96.088020  3.911980\n",
       "8       97.120419  2.879581\n",
       "9       96.844004  3.155996\n",
       "10      96.921797  3.078203\n",
       "11      96.901893  3.098107\n",
       "12      97.537379  2.462621\n",
       "13      97.569757  2.430243\n",
       "14      96.495726  3.504274\n",
       "15      96.603148  3.396852\n",
       "16      97.219882  2.780118\n",
       "17      96.869565  3.130435\n",
       "18      96.937086  3.062914\n",
       "19      96.345515  3.654485\n",
       "20      96.958855  3.041145\n",
       "21      97.664721  2.335279\n",
       "22      96.284063  3.715937\n",
       "23      96.014172  3.985828"
      ]
     },
     "execution_count": 92,
     "metadata": {},
     "output_type": "execute_result"
    }
   ],
   "source": [
    "pd.crosstab(index=df1['hora'], columns=df1.fraude, margins=False, normalize='index')*100"
   ]
  },
  {
   "cell_type": "code",
   "execution_count": 93,
   "id": "df58991c",
   "metadata": {
    "scrolled": true
   },
   "outputs": [
    {
     "data": {
      "text/html": [
       "<div>\n",
       "<style scoped>\n",
       "    .dataframe tbody tr th:only-of-type {\n",
       "        vertical-align: middle;\n",
       "    }\n",
       "\n",
       "    .dataframe tbody tr th {\n",
       "        vertical-align: top;\n",
       "    }\n",
       "\n",
       "    .dataframe thead th {\n",
       "        text-align: right;\n",
       "    }\n",
       "</style>\n",
       "<table border=\"1\" class=\"dataframe\">\n",
       "  <thead>\n",
       "    <tr style=\"text-align: right;\">\n",
       "      <th>fraude</th>\n",
       "      <th>False</th>\n",
       "      <th>True</th>\n",
       "    </tr>\n",
       "    <tr>\n",
       "      <th>hora</th>\n",
       "      <th></th>\n",
       "      <th></th>\n",
       "    </tr>\n",
       "  </thead>\n",
       "  <tbody>\n",
       "    <tr>\n",
       "      <th>1</th>\n",
       "      <td>1158</td>\n",
       "      <td>32</td>\n",
       "    </tr>\n",
       "    <tr>\n",
       "      <th>2</th>\n",
       "      <td>1131</td>\n",
       "      <td>31</td>\n",
       "    </tr>\n",
       "    <tr>\n",
       "      <th>3</th>\n",
       "      <td>1133</td>\n",
       "      <td>30</td>\n",
       "    </tr>\n",
       "    <tr>\n",
       "      <th>4</th>\n",
       "      <td>1144</td>\n",
       "      <td>32</td>\n",
       "    </tr>\n",
       "    <tr>\n",
       "      <th>5</th>\n",
       "      <td>1178</td>\n",
       "      <td>27</td>\n",
       "    </tr>\n",
       "    <tr>\n",
       "      <th>6</th>\n",
       "      <td>1172</td>\n",
       "      <td>30</td>\n",
       "    </tr>\n",
       "    <tr>\n",
       "      <th>7</th>\n",
       "      <td>1179</td>\n",
       "      <td>48</td>\n",
       "    </tr>\n",
       "    <tr>\n",
       "      <th>8</th>\n",
       "      <td>1113</td>\n",
       "      <td>33</td>\n",
       "    </tr>\n",
       "    <tr>\n",
       "      <th>9</th>\n",
       "      <td>1074</td>\n",
       "      <td>35</td>\n",
       "    </tr>\n",
       "    <tr>\n",
       "      <th>10</th>\n",
       "      <td>1165</td>\n",
       "      <td>37</td>\n",
       "    </tr>\n",
       "    <tr>\n",
       "      <th>11</th>\n",
       "      <td>1126</td>\n",
       "      <td>36</td>\n",
       "    </tr>\n",
       "    <tr>\n",
       "      <th>12</th>\n",
       "      <td>1109</td>\n",
       "      <td>28</td>\n",
       "    </tr>\n",
       "    <tr>\n",
       "      <th>13</th>\n",
       "      <td>1084</td>\n",
       "      <td>27</td>\n",
       "    </tr>\n",
       "    <tr>\n",
       "      <th>14</th>\n",
       "      <td>1129</td>\n",
       "      <td>41</td>\n",
       "    </tr>\n",
       "    <tr>\n",
       "      <th>15</th>\n",
       "      <td>1166</td>\n",
       "      <td>41</td>\n",
       "    </tr>\n",
       "    <tr>\n",
       "      <th>16</th>\n",
       "      <td>1154</td>\n",
       "      <td>33</td>\n",
       "    </tr>\n",
       "    <tr>\n",
       "      <th>17</th>\n",
       "      <td>1114</td>\n",
       "      <td>36</td>\n",
       "    </tr>\n",
       "    <tr>\n",
       "      <th>18</th>\n",
       "      <td>1171</td>\n",
       "      <td>37</td>\n",
       "    </tr>\n",
       "    <tr>\n",
       "      <th>19</th>\n",
       "      <td>1160</td>\n",
       "      <td>44</td>\n",
       "    </tr>\n",
       "    <tr>\n",
       "      <th>20</th>\n",
       "      <td>1084</td>\n",
       "      <td>34</td>\n",
       "    </tr>\n",
       "    <tr>\n",
       "      <th>21</th>\n",
       "      <td>1171</td>\n",
       "      <td>28</td>\n",
       "    </tr>\n",
       "    <tr>\n",
       "      <th>22</th>\n",
       "      <td>1166</td>\n",
       "      <td>45</td>\n",
       "    </tr>\n",
       "    <tr>\n",
       "      <th>23</th>\n",
       "      <td>1084</td>\n",
       "      <td>45</td>\n",
       "    </tr>\n",
       "  </tbody>\n",
       "</table>\n",
       "</div>"
      ],
      "text/plain": [
       "fraude  False  True\n",
       "hora               \n",
       "1        1158    32\n",
       "2        1131    31\n",
       "3        1133    30\n",
       "4        1144    32\n",
       "5        1178    27\n",
       "6        1172    30\n",
       "7        1179    48\n",
       "8        1113    33\n",
       "9        1074    35\n",
       "10       1165    37\n",
       "11       1126    36\n",
       "12       1109    28\n",
       "13       1084    27\n",
       "14       1129    41\n",
       "15       1166    41\n",
       "16       1154    33\n",
       "17       1114    36\n",
       "18       1171    37\n",
       "19       1160    44\n",
       "20       1084    34\n",
       "21       1171    28\n",
       "22       1166    45\n",
       "23       1084    45"
      ]
     },
     "execution_count": 93,
     "metadata": {},
     "output_type": "execute_result"
    }
   ],
   "source": [
    "pd.crosstab(index=df1['hora'], columns=df1.fraude, margins=False)"
   ]
  },
  {
   "cell_type": "markdown",
   "id": "cfde8d76",
   "metadata": {},
   "source": [
    "#### Variable Fraude vs Franjas_horarias\n",
    "\n",
    "Al analizar la variable Fraude vs Franjas_horarias, se observa un mayor número de casos de fraude en el horario de la noche lo cual puede generar alguna alerta."
   ]
  },
  {
   "cell_type": "code",
   "execution_count": 94,
   "id": "b6cd137c",
   "metadata": {
    "scrolled": true
   },
   "outputs": [
    {
     "data": {
      "text/plain": [
       "<AxesSubplot:xlabel='Franjas_horarias'>"
      ]
     },
     "execution_count": 94,
     "metadata": {},
     "output_type": "execute_result"
    },
    {
     "data": {
      "image/png": "[encoded data removed]",
      "text/plain": [
       "<Figure size 576x216 with 1 Axes>"
      ]
     },
     "metadata": {},
     "output_type": "display_data"
    }
   ],
   "source": [
    "pd.crosstab(index=df1['Franjas_horarias'], columns=df1.fraude, margins=False, normalize='index').plot(kind='bar', stacked=True)"
   ]
  },
  {
   "cell_type": "code",
   "execution_count": 95,
   "id": "ac8d36fd",
   "metadata": {
    "scrolled": true
   },
   "outputs": [
    {
     "data": {
      "text/html": [
       "<div>\n",
       "<style scoped>\n",
       "    .dataframe tbody tr th:only-of-type {\n",
       "        vertical-align: middle;\n",
       "    }\n",
       "\n",
       "    .dataframe tbody tr th {\n",
       "        vertical-align: top;\n",
       "    }\n",
       "\n",
       "    .dataframe thead th {\n",
       "        text-align: right;\n",
       "    }\n",
       "</style>\n",
       "<table border=\"1\" class=\"dataframe\">\n",
       "  <thead>\n",
       "    <tr style=\"text-align: right;\">\n",
       "      <th>fraude</th>\n",
       "      <th>False</th>\n",
       "      <th>True</th>\n",
       "    </tr>\n",
       "    <tr>\n",
       "      <th>Franjas_horarias</th>\n",
       "      <th></th>\n",
       "      <th></th>\n",
       "    </tr>\n",
       "  </thead>\n",
       "  <tbody>\n",
       "    <tr>\n",
       "      <th>Madrugada</th>\n",
       "      <td>97.421981</td>\n",
       "      <td>2.578019</td>\n",
       "    </tr>\n",
       "    <tr>\n",
       "      <th>Mañana</th>\n",
       "      <td>96.892736</td>\n",
       "      <td>3.107264</td>\n",
       "    </tr>\n",
       "    <tr>\n",
       "      <th>Noche</th>\n",
       "      <td>96.703919</td>\n",
       "      <td>3.296081</td>\n",
       "    </tr>\n",
       "    <tr>\n",
       "      <th>Tarde</th>\n",
       "      <td>97.041080</td>\n",
       "      <td>2.958920</td>\n",
       "    </tr>\n",
       "  </tbody>\n",
       "</table>\n",
       "</div>"
      ],
      "text/plain": [
       "fraude                False      True\n",
       "Franjas_horarias                     \n",
       "Madrugada         97.421981  2.578019\n",
       "Mañana            96.892736  3.107264\n",
       "Noche             96.703919  3.296081\n",
       "Tarde             97.041080  2.958920"
      ]
     },
     "execution_count": 95,
     "metadata": {},
     "output_type": "execute_result"
    }
   ],
   "source": [
    "pd.crosstab(index=df1['Franjas_horarias'], columns=df1.fraude, margins=False, normalize='index')*100"
   ]
  },
  {
   "cell_type": "code",
   "execution_count": 96,
   "id": "7b138789",
   "metadata": {
    "scrolled": false
   },
   "outputs": [
    {
     "data": {
      "text/html": [
       "<div>\n",
       "<style scoped>\n",
       "    .dataframe tbody tr th:only-of-type {\n",
       "        vertical-align: middle;\n",
       "    }\n",
       "\n",
       "    .dataframe tbody tr th {\n",
       "        vertical-align: top;\n",
       "    }\n",
       "\n",
       "    .dataframe thead th {\n",
       "        text-align: right;\n",
       "    }\n",
       "</style>\n",
       "<table border=\"1\" class=\"dataframe\">\n",
       "  <thead>\n",
       "    <tr style=\"text-align: right;\">\n",
       "      <th>fraude</th>\n",
       "      <th>False</th>\n",
       "      <th>True</th>\n",
       "    </tr>\n",
       "    <tr>\n",
       "      <th>Franjas_horarias</th>\n",
       "      <th></th>\n",
       "      <th></th>\n",
       "    </tr>\n",
       "  </thead>\n",
       "  <tbody>\n",
       "    <tr>\n",
       "      <th>Madrugada</th>\n",
       "      <td>5744</td>\n",
       "      <td>152</td>\n",
       "    </tr>\n",
       "    <tr>\n",
       "      <th>Mañana</th>\n",
       "      <td>6829</td>\n",
       "      <td>219</td>\n",
       "    </tr>\n",
       "    <tr>\n",
       "      <th>Noche</th>\n",
       "      <td>6836</td>\n",
       "      <td>233</td>\n",
       "    </tr>\n",
       "    <tr>\n",
       "      <th>Tarde</th>\n",
       "      <td>6756</td>\n",
       "      <td>206</td>\n",
       "    </tr>\n",
       "  </tbody>\n",
       "</table>\n",
       "</div>"
      ],
      "text/plain": [
       "fraude            False  True\n",
       "Franjas_horarias             \n",
       "Madrugada          5744   152\n",
       "Mañana             6829   219\n",
       "Noche              6836   233\n",
       "Tarde              6756   206"
      ]
     },
     "execution_count": 96,
     "metadata": {},
     "output_type": "execute_result"
    }
   ],
   "source": [
    "pd.crosstab(index=df1['Franjas_horarias'], columns=df1.fraude, margins=False)"
   ]
  },
  {
   "cell_type": "markdown",
   "id": "317d3aab",
   "metadata": {},
   "source": [
    "#### Variable Fraude vs Variables númericas"
   ]
  },
  {
   "cell_type": "code",
   "execution_count": 97,
   "id": "37f7c197",
   "metadata": {
    "scrolled": false
   },
   "outputs": [
    {
     "data": {
      "image/png": "[encoded data removed]",
      "text/plain": [
       "<Figure size 1440x720 with 5 Axes>"
      ]
     },
     "metadata": {},
     "output_type": "display_data"
    }
   ],
   "source": [
    "plt.figure(figsize=(20, 10))\n",
    "i=1\n",
    "for col in variables_numericas:\n",
    "    plt.subplot(2, 3, i)\n",
    "    sns.boxplot(data=df1, y=col, x='fraude')\n",
    "    plt.title(f\"Variable {col}\")\n",
    "    i+=1"
   ]
  },
  {
   "cell_type": "code",
   "execution_count": 98,
   "id": "732c1915",
   "metadata": {
    "scrolled": false
   },
   "outputs": [
    {
     "data": {
      "image/png": "[encoded data removed]",
      "text/plain": [
       "<Figure size 1440x720 with 5 Axes>"
      ]
     },
     "metadata": {},
     "output_type": "display_data"
    }
   ],
   "source": [
    "plt.figure(figsize=(20, 10))\n",
    "i=1\n",
    "for col in variables_numericas:\n",
    "    plt.subplot(2, 3, i)\n",
    "    sns.histplot(data=df1, x=col, hue='fraude')\n",
    "    plt.title(f\"Variable {col}\")\n",
    "    i+=1"
   ]
  },
  {
   "cell_type": "markdown",
   "id": "47f5cf25",
   "metadata": {},
   "source": [
    "### 2.4.5 Análisis multivariado\n",
    "\n",
    "En esta sección se realiza un análisis multivariado entre las variables númericas. Se pueden observar algunas relaciones no muy fuertes, sin embargo hay una relación que tiende a ser fuerte entre **monto** y **cashback**."
   ]
  },
  {
   "cell_type": "code",
   "execution_count": 99,
   "id": "4f95bf86",
   "metadata": {},
   "outputs": [],
   "source": [
    "df_num=df1.select_dtypes(include='float64').head()"
   ]
  },
  {
   "cell_type": "code",
   "execution_count": 100,
   "id": "2ed7316f",
   "metadata": {
    "scrolled": false
   },
   "outputs": [
    {
     "data": {
      "image/png": "[encoded data removed]",
      "text/plain": [
       "<Figure size 1080x576 with 2 Axes>"
      ]
     },
     "metadata": {},
     "output_type": "display_data"
    }
   ],
   "source": [
    "corr_df = df_num.corr()\n",
    "lower_mat = np.triu(corr_df, k=1)\n",
    "\n",
    "plt.figure(figsize=(15, 8))\n",
    "sns.heatmap(#df_train_final[corr_mat_filtered].corr(method='spearman'), \n",
    "            df_num.corr(),\n",
    "            annot=True, \n",
    "            vmin=-1, \n",
    "            vmax=1,\n",
    "            #cmap=sns.diverging_palette(20, 220, n=200),\n",
    "            #cmap=sns.diverging_palette(220, 20, as_cmap=True),\n",
    "            #cmap=sns.color_palette('Blues'),\n",
    "            cmap=sns.color_palette('viridis'),\n",
    "            mask=lower_mat\n",
    "           )\n",
    "plt.show()"
   ]
  },
  {
   "cell_type": "markdown",
   "id": "0f65e75d",
   "metadata": {},
   "source": [
    "## 2.5 Train set y validation set\n",
    "\n",
    "Se realiza la división entre train y validation, con tamaños de 70% y 30% respectivamente."
   ]
  },
  {
   "cell_type": "code",
   "execution_count": 101,
   "id": "7a5ebc29",
   "metadata": {
    "scrolled": true
   },
   "outputs": [],
   "source": [
    "X = df1.drop(['ID_USER', 'fecha', 'dia_numero','hora', 'dispositivo', 'dias_semana_orden', 'fraude'], axis=1)\n",
    "y=df1.fraude"
   ]
  },
  {
   "cell_type": "code",
   "execution_count": 102,
   "id": "aa19dc2f",
   "metadata": {},
   "outputs": [
    {
     "data": {
      "text/html": [
       "<div>\n",
       "<style scoped>\n",
       "    .dataframe tbody tr th:only-of-type {\n",
       "        vertical-align: middle;\n",
       "    }\n",
       "\n",
       "    .dataframe tbody tr th {\n",
       "        vertical-align: top;\n",
       "    }\n",
       "\n",
       "    .dataframe thead th {\n",
       "        text-align: right;\n",
       "    }\n",
       "</style>\n",
       "<table border=\"1\" class=\"dataframe\">\n",
       "  <thead>\n",
       "    <tr style=\"text-align: right;\">\n",
       "      <th></th>\n",
       "      <th>genero</th>\n",
       "      <th>monto</th>\n",
       "      <th>dia_semana</th>\n",
       "      <th>establecimiento</th>\n",
       "      <th>ciudad</th>\n",
       "      <th>tipo_tc</th>\n",
       "      <th>linea_tc</th>\n",
       "      <th>interes_tc</th>\n",
       "      <th>status_txn</th>\n",
       "      <th>is_prime</th>\n",
       "      <th>dcto</th>\n",
       "      <th>cashback</th>\n",
       "      <th>Franjas_horarias</th>\n",
       "    </tr>\n",
       "  </thead>\n",
       "  <tbody>\n",
       "    <tr>\n",
       "      <th>0</th>\n",
       "      <td>F</td>\n",
       "      <td>608.345633</td>\n",
       "      <td>Martes</td>\n",
       "      <td>Super</td>\n",
       "      <td>Merida</td>\n",
       "      <td>Fisica</td>\n",
       "      <td>71000.0</td>\n",
       "      <td>51.0</td>\n",
       "      <td>Aceptada</td>\n",
       "      <td>False</td>\n",
       "      <td>60.834563</td>\n",
       "      <td>5.475111</td>\n",
       "      <td>Noche</td>\n",
       "    </tr>\n",
       "    <tr>\n",
       "      <th>1</th>\n",
       "      <td>F</td>\n",
       "      <td>88.719243</td>\n",
       "      <td>Miércoles</td>\n",
       "      <td>Otro</td>\n",
       "      <td>Merida</td>\n",
       "      <td>Virtual</td>\n",
       "      <td>71000.0</td>\n",
       "      <td>51.0</td>\n",
       "      <td>Aceptada</td>\n",
       "      <td>False</td>\n",
       "      <td>0.000000</td>\n",
       "      <td>1.774385</td>\n",
       "      <td>Mañana</td>\n",
       "    </tr>\n",
       "    <tr>\n",
       "      <th>2</th>\n",
       "      <td>F</td>\n",
       "      <td>790.037653</td>\n",
       "      <td>Viernes</td>\n",
       "      <td>Otro</td>\n",
       "      <td>Guadalajara</td>\n",
       "      <td>Virtual</td>\n",
       "      <td>94000.0</td>\n",
       "      <td>56.0</td>\n",
       "      <td>En proceso</td>\n",
       "      <td>False</td>\n",
       "      <td>0.000000</td>\n",
       "      <td>15.800753</td>\n",
       "      <td>Mañana</td>\n",
       "    </tr>\n",
       "    <tr>\n",
       "      <th>3</th>\n",
       "      <td>F</td>\n",
       "      <td>767.005387</td>\n",
       "      <td>Domingo</td>\n",
       "      <td>MPago</td>\n",
       "      <td>Guadalajara</td>\n",
       "      <td>Fisica</td>\n",
       "      <td>94000.0</td>\n",
       "      <td>56.0</td>\n",
       "      <td>Aceptada</td>\n",
       "      <td>False</td>\n",
       "      <td>0.000000</td>\n",
       "      <td>7.670054</td>\n",
       "      <td>Mañana</td>\n",
       "    </tr>\n",
       "    <tr>\n",
       "      <th>4</th>\n",
       "      <td>F</td>\n",
       "      <td>254.171053</td>\n",
       "      <td>Jueves</td>\n",
       "      <td>Otro</td>\n",
       "      <td>Guadalajara</td>\n",
       "      <td>Fisica</td>\n",
       "      <td>94000.0</td>\n",
       "      <td>56.0</td>\n",
       "      <td>Aceptada</td>\n",
       "      <td>False</td>\n",
       "      <td>0.000000</td>\n",
       "      <td>2.541711</td>\n",
       "      <td>Mañana</td>\n",
       "    </tr>\n",
       "    <tr>\n",
       "      <th>...</th>\n",
       "      <td>...</td>\n",
       "      <td>...</td>\n",
       "      <td>...</td>\n",
       "      <td>...</td>\n",
       "      <td>...</td>\n",
       "      <td>...</td>\n",
       "      <td>...</td>\n",
       "      <td>...</td>\n",
       "      <td>...</td>\n",
       "      <td>...</td>\n",
       "      <td>...</td>\n",
       "      <td>...</td>\n",
       "      <td>...</td>\n",
       "    </tr>\n",
       "    <tr>\n",
       "      <th>26970</th>\n",
       "      <td>M</td>\n",
       "      <td>746.192089</td>\n",
       "      <td>Miércoles</td>\n",
       "      <td>Otro</td>\n",
       "      <td>Toluca</td>\n",
       "      <td>Fisica</td>\n",
       "      <td>40000.0</td>\n",
       "      <td>56.0</td>\n",
       "      <td>Aceptada</td>\n",
       "      <td>False</td>\n",
       "      <td>0.000000</td>\n",
       "      <td>7.461921</td>\n",
       "      <td>Tarde</td>\n",
       "    </tr>\n",
       "    <tr>\n",
       "      <th>26971</th>\n",
       "      <td>M</td>\n",
       "      <td>941.804966</td>\n",
       "      <td>Martes</td>\n",
       "      <td>Otro</td>\n",
       "      <td>Toluca</td>\n",
       "      <td>Fisica</td>\n",
       "      <td>40000.0</td>\n",
       "      <td>56.0</td>\n",
       "      <td>Aceptada</td>\n",
       "      <td>False</td>\n",
       "      <td>0.000000</td>\n",
       "      <td>9.418050</td>\n",
       "      <td>Tarde</td>\n",
       "    </tr>\n",
       "    <tr>\n",
       "      <th>26972</th>\n",
       "      <td>M</td>\n",
       "      <td>251.189885</td>\n",
       "      <td>Jueves</td>\n",
       "      <td>Otro</td>\n",
       "      <td>Toluca</td>\n",
       "      <td>Virtual</td>\n",
       "      <td>40000.0</td>\n",
       "      <td>56.0</td>\n",
       "      <td>Aceptada</td>\n",
       "      <td>False</td>\n",
       "      <td>0.000000</td>\n",
       "      <td>5.023798</td>\n",
       "      <td>Mañana</td>\n",
       "    </tr>\n",
       "    <tr>\n",
       "      <th>26973</th>\n",
       "      <td>M</td>\n",
       "      <td>24.182665</td>\n",
       "      <td>Lunes</td>\n",
       "      <td>Otro</td>\n",
       "      <td>Toluca</td>\n",
       "      <td>Fisica</td>\n",
       "      <td>40000.0</td>\n",
       "      <td>56.0</td>\n",
       "      <td>Aceptada</td>\n",
       "      <td>False</td>\n",
       "      <td>2.418266</td>\n",
       "      <td>0.217644</td>\n",
       "      <td>Tarde</td>\n",
       "    </tr>\n",
       "    <tr>\n",
       "      <th>26974</th>\n",
       "      <td>M</td>\n",
       "      <td>517.209272</td>\n",
       "      <td>Viernes</td>\n",
       "      <td>MPago</td>\n",
       "      <td>Toluca</td>\n",
       "      <td>Fisica</td>\n",
       "      <td>40000.0</td>\n",
       "      <td>56.0</td>\n",
       "      <td>En proceso</td>\n",
       "      <td>False</td>\n",
       "      <td>0.000000</td>\n",
       "      <td>5.172093</td>\n",
       "      <td>Noche</td>\n",
       "    </tr>\n",
       "  </tbody>\n",
       "</table>\n",
       "<p>26975 rows × 13 columns</p>\n",
       "</div>"
      ],
      "text/plain": [
       "      genero       monto dia_semana establecimiento       ciudad  tipo_tc  \\\n",
       "0          F  608.345633     Martes           Super       Merida   Fisica   \n",
       "1          F   88.719243  Miércoles            Otro       Merida  Virtual   \n",
       "2          F  790.037653    Viernes            Otro  Guadalajara  Virtual   \n",
       "3          F  767.005387    Domingo           MPago  Guadalajara   Fisica   \n",
       "4          F  254.171053     Jueves            Otro  Guadalajara   Fisica   \n",
       "...      ...         ...        ...             ...          ...      ...   \n",
       "26970      M  746.192089  Miércoles            Otro       Toluca   Fisica   \n",
       "26971      M  941.804966     Martes            Otro       Toluca   Fisica   \n",
       "26972      M  251.189885     Jueves            Otro       Toluca  Virtual   \n",
       "26973      M   24.182665      Lunes            Otro       Toluca   Fisica   \n",
       "26974      M  517.209272    Viernes           MPago       Toluca   Fisica   \n",
       "\n",
       "       linea_tc  interes_tc  status_txn is_prime       dcto   cashback  \\\n",
       "0       71000.0        51.0    Aceptada    False  60.834563   5.475111   \n",
       "1       71000.0        51.0    Aceptada    False   0.000000   1.774385   \n",
       "2       94000.0        56.0  En proceso    False   0.000000  15.800753   \n",
       "3       94000.0        56.0    Aceptada    False   0.000000   7.670054   \n",
       "4       94000.0        56.0    Aceptada    False   0.000000   2.541711   \n",
       "...         ...         ...         ...      ...        ...        ...   \n",
       "26970   40000.0        56.0    Aceptada    False   0.000000   7.461921   \n",
       "26971   40000.0        56.0    Aceptada    False   0.000000   9.418050   \n",
       "26972   40000.0        56.0    Aceptada    False   0.000000   5.023798   \n",
       "26973   40000.0        56.0    Aceptada    False   2.418266   0.217644   \n",
       "26974   40000.0        56.0  En proceso    False   0.000000   5.172093   \n",
       "\n",
       "      Franjas_horarias  \n",
       "0                Noche  \n",
       "1               Mañana  \n",
       "2               Mañana  \n",
       "3               Mañana  \n",
       "4               Mañana  \n",
       "...                ...  \n",
       "26970            Tarde  \n",
       "26971            Tarde  \n",
       "26972           Mañana  \n",
       "26973            Tarde  \n",
       "26974            Noche  \n",
       "\n",
       "[26975 rows x 13 columns]"
      ]
     },
     "execution_count": 102,
     "metadata": {},
     "output_type": "execute_result"
    }
   ],
   "source": [
    "X"
   ]
  },
  {
   "cell_type": "markdown",
   "id": "51de9b0f",
   "metadata": {},
   "source": [
    "#### Particionamiento de los datos"
   ]
  },
  {
   "cell_type": "code",
   "execution_count": 103,
   "id": "c104e4a1",
   "metadata": {},
   "outputs": [],
   "source": [
    "x_train, x_validation, y_train, y_validation = train_test_split(X, y, \n",
    "                                                                train_size=0.7, \n",
    "                                                                stratify=y, \n",
    "                                                                random_state=2022)"
   ]
  },
  {
   "cell_type": "markdown",
   "id": "6d57f3ee",
   "metadata": {},
   "source": [
    "#### Distribución de la variable objetivo en training set"
   ]
  },
  {
   "cell_type": "code",
   "execution_count": 104,
   "id": "7bc22d29",
   "metadata": {
    "scrolled": true
   },
   "outputs": [
    {
     "data": {
      "text/plain": [
       "False    96.99714\n",
       "True      3.00286\n",
       "Name: fraude, dtype: float64"
      ]
     },
     "execution_count": 104,
     "metadata": {},
     "output_type": "execute_result"
    }
   ],
   "source": [
    "y_train.value_counts() / len(y_train) * 100"
   ]
  },
  {
   "cell_type": "code",
   "execution_count": 105,
   "id": "cd145541",
   "metadata": {
    "scrolled": true
   },
   "outputs": [
    {
     "data": {
      "text/plain": [
       "False    18315\n",
       "True       567\n",
       "Name: fraude, dtype: int64"
      ]
     },
     "execution_count": 105,
     "metadata": {},
     "output_type": "execute_result"
    }
   ],
   "source": [
    "y_train.value_counts()"
   ]
  },
  {
   "cell_type": "markdown",
   "id": "9877ad84",
   "metadata": {},
   "source": [
    "####  Distribución de la variable objetivo en validation set"
   ]
  },
  {
   "cell_type": "code",
   "execution_count": 106,
   "id": "c62b1e46",
   "metadata": {
    "scrolled": true
   },
   "outputs": [
    {
     "data": {
      "text/plain": [
       "False    96.997405\n",
       "True      3.002595\n",
       "Name: fraude, dtype: float64"
      ]
     },
     "execution_count": 106,
     "metadata": {},
     "output_type": "execute_result"
    }
   ],
   "source": [
    "y_validation.value_counts() / len(y_validation) * 100"
   ]
  },
  {
   "cell_type": "code",
   "execution_count": 107,
   "id": "e904f723",
   "metadata": {
    "scrolled": true
   },
   "outputs": [
    {
     "data": {
      "text/plain": [
       "False    7850\n",
       "True      243\n",
       "Name: fraude, dtype: int64"
      ]
     },
     "execution_count": 107,
     "metadata": {},
     "output_type": "execute_result"
    }
   ],
   "source": [
    "y_validation.value_counts()"
   ]
  },
  {
   "cell_type": "code",
   "execution_count": 108,
   "id": "90bc25dc",
   "metadata": {},
   "outputs": [
    {
     "data": {
      "text/html": [
       "<div>\n",
       "<style scoped>\n",
       "    .dataframe tbody tr th:only-of-type {\n",
       "        vertical-align: middle;\n",
       "    }\n",
       "\n",
       "    .dataframe tbody tr th {\n",
       "        vertical-align: top;\n",
       "    }\n",
       "\n",
       "    .dataframe thead th {\n",
       "        text-align: right;\n",
       "    }\n",
       "</style>\n",
       "<table border=\"1\" class=\"dataframe\">\n",
       "  <thead>\n",
       "    <tr style=\"text-align: right;\">\n",
       "      <th></th>\n",
       "      <th>genero</th>\n",
       "      <th>monto</th>\n",
       "      <th>dia_semana</th>\n",
       "      <th>establecimiento</th>\n",
       "      <th>ciudad</th>\n",
       "      <th>tipo_tc</th>\n",
       "      <th>linea_tc</th>\n",
       "      <th>interes_tc</th>\n",
       "      <th>status_txn</th>\n",
       "      <th>is_prime</th>\n",
       "      <th>dcto</th>\n",
       "      <th>cashback</th>\n",
       "      <th>Franjas_horarias</th>\n",
       "    </tr>\n",
       "  </thead>\n",
       "  <tbody>\n",
       "    <tr>\n",
       "      <th>2704</th>\n",
       "      <td>M</td>\n",
       "      <td>385.057536</td>\n",
       "      <td>Martes</td>\n",
       "      <td>Restaurante</td>\n",
       "      <td>Monterrey</td>\n",
       "      <td>Fisica</td>\n",
       "      <td>61000.0</td>\n",
       "      <td>48.0</td>\n",
       "      <td>Aceptada</td>\n",
       "      <td>False</td>\n",
       "      <td>0.000000</td>\n",
       "      <td>3.850575</td>\n",
       "      <td>Tarde</td>\n",
       "    </tr>\n",
       "    <tr>\n",
       "      <th>20078</th>\n",
       "      <td>F</td>\n",
       "      <td>9.961190</td>\n",
       "      <td>Miércoles</td>\n",
       "      <td>Farmacia</td>\n",
       "      <td>Otro</td>\n",
       "      <td>Fisica</td>\n",
       "      <td>84000.0</td>\n",
       "      <td>59.0</td>\n",
       "      <td>En proceso</td>\n",
       "      <td>False</td>\n",
       "      <td>0.000000</td>\n",
       "      <td>0.099612</td>\n",
       "      <td>Tarde</td>\n",
       "    </tr>\n",
       "    <tr>\n",
       "      <th>9422</th>\n",
       "      <td>F</td>\n",
       "      <td>368.533154</td>\n",
       "      <td>Sábado</td>\n",
       "      <td>Otro</td>\n",
       "      <td>Merida</td>\n",
       "      <td>Fisica</td>\n",
       "      <td>64000.0</td>\n",
       "      <td>58.0</td>\n",
       "      <td>Aceptada</td>\n",
       "      <td>True</td>\n",
       "      <td>0.000000</td>\n",
       "      <td>3.685332</td>\n",
       "      <td>Tarde</td>\n",
       "    </tr>\n",
       "    <tr>\n",
       "      <th>5316</th>\n",
       "      <td>F</td>\n",
       "      <td>163.593027</td>\n",
       "      <td>Domingo</td>\n",
       "      <td>Super</td>\n",
       "      <td>Otro</td>\n",
       "      <td>Fisica</td>\n",
       "      <td>61000.0</td>\n",
       "      <td>54.0</td>\n",
       "      <td>Aceptada</td>\n",
       "      <td>False</td>\n",
       "      <td>0.000000</td>\n",
       "      <td>1.635930</td>\n",
       "      <td>Madrugada</td>\n",
       "    </tr>\n",
       "    <tr>\n",
       "      <th>14954</th>\n",
       "      <td>Otro</td>\n",
       "      <td>273.467527</td>\n",
       "      <td>Miércoles</td>\n",
       "      <td>Otro</td>\n",
       "      <td>Otro</td>\n",
       "      <td>Fisica</td>\n",
       "      <td>80000.0</td>\n",
       "      <td>58.0</td>\n",
       "      <td>Aceptada</td>\n",
       "      <td>False</td>\n",
       "      <td>0.000000</td>\n",
       "      <td>2.734675</td>\n",
       "      <td>Noche</td>\n",
       "    </tr>\n",
       "    <tr>\n",
       "      <th>...</th>\n",
       "      <td>...</td>\n",
       "      <td>...</td>\n",
       "      <td>...</td>\n",
       "      <td>...</td>\n",
       "      <td>...</td>\n",
       "      <td>...</td>\n",
       "      <td>...</td>\n",
       "      <td>...</td>\n",
       "      <td>...</td>\n",
       "      <td>...</td>\n",
       "      <td>...</td>\n",
       "      <td>...</td>\n",
       "      <td>...</td>\n",
       "    </tr>\n",
       "    <tr>\n",
       "      <th>795</th>\n",
       "      <td>M</td>\n",
       "      <td>346.653028</td>\n",
       "      <td>Miércoles</td>\n",
       "      <td>Otro</td>\n",
       "      <td>Monterrey</td>\n",
       "      <td>Fisica</td>\n",
       "      <td>96000.0</td>\n",
       "      <td>42.0</td>\n",
       "      <td>Aceptada</td>\n",
       "      <td>False</td>\n",
       "      <td>0.000000</td>\n",
       "      <td>3.466530</td>\n",
       "      <td>Madrugada</td>\n",
       "    </tr>\n",
       "    <tr>\n",
       "      <th>16405</th>\n",
       "      <td>M</td>\n",
       "      <td>447.322089</td>\n",
       "      <td>Lunes</td>\n",
       "      <td>Otro</td>\n",
       "      <td>Guadalajara</td>\n",
       "      <td>Virtual</td>\n",
       "      <td>45000.0</td>\n",
       "      <td>50.0</td>\n",
       "      <td>Rechazada</td>\n",
       "      <td>False</td>\n",
       "      <td>44.732209</td>\n",
       "      <td>8.051798</td>\n",
       "      <td>Tarde</td>\n",
       "    </tr>\n",
       "    <tr>\n",
       "      <th>17753</th>\n",
       "      <td>M</td>\n",
       "      <td>529.142241</td>\n",
       "      <td>Viernes</td>\n",
       "      <td>Otro</td>\n",
       "      <td>Monterrey</td>\n",
       "      <td>Virtual</td>\n",
       "      <td>87000.0</td>\n",
       "      <td>61.0</td>\n",
       "      <td>En proceso</td>\n",
       "      <td>False</td>\n",
       "      <td>105.828448</td>\n",
       "      <td>8.466276</td>\n",
       "      <td>Noche</td>\n",
       "    </tr>\n",
       "    <tr>\n",
       "      <th>15010</th>\n",
       "      <td>M</td>\n",
       "      <td>871.840790</td>\n",
       "      <td>Viernes</td>\n",
       "      <td>Otro</td>\n",
       "      <td>Merida</td>\n",
       "      <td>Fisica</td>\n",
       "      <td>75000.0</td>\n",
       "      <td>45.0</td>\n",
       "      <td>Aceptada</td>\n",
       "      <td>False</td>\n",
       "      <td>0.000000</td>\n",
       "      <td>8.718408</td>\n",
       "      <td>Tarde</td>\n",
       "    </tr>\n",
       "    <tr>\n",
       "      <th>10244</th>\n",
       "      <td>M</td>\n",
       "      <td>517.842733</td>\n",
       "      <td>Jueves</td>\n",
       "      <td>Otro</td>\n",
       "      <td>Guadalajara</td>\n",
       "      <td>Virtual</td>\n",
       "      <td>92000.0</td>\n",
       "      <td>37.0</td>\n",
       "      <td>Aceptada</td>\n",
       "      <td>False</td>\n",
       "      <td>51.784273</td>\n",
       "      <td>9.321169</td>\n",
       "      <td>Tarde</td>\n",
       "    </tr>\n",
       "  </tbody>\n",
       "</table>\n",
       "<p>18882 rows × 13 columns</p>\n",
       "</div>"
      ],
      "text/plain": [
       "      genero       monto dia_semana establecimiento       ciudad  tipo_tc  \\\n",
       "2704       M  385.057536     Martes     Restaurante    Monterrey   Fisica   \n",
       "20078      F    9.961190  Miércoles        Farmacia         Otro   Fisica   \n",
       "9422       F  368.533154     Sábado            Otro       Merida   Fisica   \n",
       "5316       F  163.593027    Domingo           Super         Otro   Fisica   \n",
       "14954   Otro  273.467527  Miércoles            Otro         Otro   Fisica   \n",
       "...      ...         ...        ...             ...          ...      ...   \n",
       "795        M  346.653028  Miércoles            Otro    Monterrey   Fisica   \n",
       "16405      M  447.322089      Lunes            Otro  Guadalajara  Virtual   \n",
       "17753      M  529.142241    Viernes            Otro    Monterrey  Virtual   \n",
       "15010      M  871.840790    Viernes            Otro       Merida   Fisica   \n",
       "10244      M  517.842733     Jueves            Otro  Guadalajara  Virtual   \n",
       "\n",
       "       linea_tc  interes_tc  status_txn is_prime        dcto  cashback  \\\n",
       "2704    61000.0        48.0    Aceptada    False    0.000000  3.850575   \n",
       "20078   84000.0        59.0  En proceso    False    0.000000  0.099612   \n",
       "9422    64000.0        58.0    Aceptada     True    0.000000  3.685332   \n",
       "5316    61000.0        54.0    Aceptada    False    0.000000  1.635930   \n",
       "14954   80000.0        58.0    Aceptada    False    0.000000  2.734675   \n",
       "...         ...         ...         ...      ...         ...       ...   \n",
       "795     96000.0        42.0    Aceptada    False    0.000000  3.466530   \n",
       "16405   45000.0        50.0   Rechazada    False   44.732209  8.051798   \n",
       "17753   87000.0        61.0  En proceso    False  105.828448  8.466276   \n",
       "15010   75000.0        45.0    Aceptada    False    0.000000  8.718408   \n",
       "10244   92000.0        37.0    Aceptada    False   51.784273  9.321169   \n",
       "\n",
       "      Franjas_horarias  \n",
       "2704             Tarde  \n",
       "20078            Tarde  \n",
       "9422             Tarde  \n",
       "5316         Madrugada  \n",
       "14954            Noche  \n",
       "...                ...  \n",
       "795          Madrugada  \n",
       "16405            Tarde  \n",
       "17753            Noche  \n",
       "15010            Tarde  \n",
       "10244            Tarde  \n",
       "\n",
       "[18882 rows x 13 columns]"
      ]
     },
     "execution_count": 108,
     "metadata": {},
     "output_type": "execute_result"
    }
   ],
   "source": [
    "x_train"
   ]
  },
  {
   "cell_type": "markdown",
   "id": "205acaa1",
   "metadata": {},
   "source": [
    "####  Construcción de dataset finales"
   ]
  },
  {
   "cell_type": "code",
   "execution_count": 109,
   "id": "8d785364",
   "metadata": {},
   "outputs": [],
   "source": [
    "df_train = pd.concat([x_train, y_train.to_frame()], axis=1)"
   ]
  },
  {
   "cell_type": "code",
   "execution_count": 110,
   "id": "da62af90",
   "metadata": {
    "scrolled": true
   },
   "outputs": [
    {
     "data": {
      "text/plain": [
       "genero               object\n",
       "monto               float64\n",
       "dia_semana           object\n",
       "establecimiento      object\n",
       "ciudad               object\n",
       "tipo_tc              object\n",
       "linea_tc            float64\n",
       "interes_tc          float64\n",
       "status_txn           object\n",
       "is_prime             object\n",
       "dcto                float64\n",
       "cashback            float64\n",
       "Franjas_horarias     object\n",
       "fraude               object\n",
       "dtype: object"
      ]
     },
     "execution_count": 110,
     "metadata": {},
     "output_type": "execute_result"
    }
   ],
   "source": [
    "df_train.dtypes"
   ]
  },
  {
   "cell_type": "code",
   "execution_count": 110,
   "id": "04298eb0",
   "metadata": {},
   "outputs": [],
   "source": [
    "cat_cols = [*df_train.select_dtypes(include='object').columns[:8]]\n",
    "\n",
    "num_cols =  [*df_train.select_dtypes(exclude='object').columns]"
   ]
  },
  {
   "cell_type": "code",
   "execution_count": 111,
   "id": "b37fd277",
   "metadata": {},
   "outputs": [
    {
     "data": {
      "text/plain": [
       "['monto', 'linea_tc', 'interes_tc', 'dcto', 'cashback']"
      ]
     },
     "execution_count": 111,
     "metadata": {},
     "output_type": "execute_result"
    }
   ],
   "source": [
    "num_cols"
   ]
  },
  {
   "cell_type": "markdown",
   "id": "4a577c3b",
   "metadata": {},
   "source": [
    "##  2.6 Pipeline normalización y codificación"
   ]
  },
  {
   "cell_type": "markdown",
   "id": "11867490",
   "metadata": {},
   "source": [
    "Se procede a construir el código de preprocesamiento de los datos, donde se realizará una estandarización de las variables numéricas y se dumificarán las variables categóricas."
   ]
  },
  {
   "cell_type": "code",
   "execution_count": 112,
   "id": "0b659aa7",
   "metadata": {},
   "outputs": [],
   "source": [
    "# Transformacion variables numericas\n",
    "transformacion_numericas = Pipeline(\n",
    "    steps=[(\"imputer\", SimpleImputer(strategy=\"median\")), (\"scaler\", StandardScaler())]\n",
    ")\n",
    "\n",
    "# Transformacion variables categoricas\n",
    "\n",
    "transformacion_categoricas = Pipeline(\n",
    "    steps=[(\"imputer\", SimpleImputer(strategy=\"most_frequent\")), ('ohe', OneHotEncoder(handle_unknown=\"ignore\"))]\n",
    ")\n",
    "\n",
    "preprocessor = ColumnTransformer(\n",
    "    transformers=[\n",
    "        (\"num\", transformacion_numericas, num_cols),\n",
    "        (\"cat\", transformacion_categoricas, cat_cols),\n",
    "    ],\n",
    "    remainder='passthrough'\n",
    ")"
   ]
  },
  {
   "cell_type": "markdown",
   "id": "e371984e",
   "metadata": {},
   "source": [
    "## 3. Modelación y evaluación"
   ]
  },
  {
   "cell_type": "code",
   "execution_count": 113,
   "id": "65edcea7",
   "metadata": {},
   "outputs": [],
   "source": [
    "metrica = 'roc_auc'"
   ]
  },
  {
   "cell_type": "code",
   "execution_count": 114,
   "id": "2b6ca684",
   "metadata": {},
   "outputs": [],
   "source": [
    "xtrain2=x_train.copy()"
   ]
  },
  {
   "cell_type": "code",
   "execution_count": 115,
   "id": "86789f5a",
   "metadata": {},
   "outputs": [],
   "source": [
    "ytrain2=y_train.copy()"
   ]
  },
  {
   "cell_type": "code",
   "execution_count": 116,
   "id": "8b59020c",
   "metadata": {},
   "outputs": [],
   "source": [
    "xtrain2.is_prime=xtrain2.is_prime*1\n",
    "ytrain2=ytrain2*1\n",
    "ytrain2=ytrain2.astype('int')"
   ]
  },
  {
   "cell_type": "code",
   "execution_count": 117,
   "id": "c03d8e77",
   "metadata": {},
   "outputs": [],
   "source": [
    "xvalid2=x_validation.copy()\n",
    "yvalid2=y_validation.copy()\n",
    "\n",
    "xvalid2.is_prime=xvalid2.is_prime*1\n",
    "yvalid2=yvalid2*1\n",
    "yvalid2=yvalid2.astype('int')"
   ]
  },
  {
   "cell_type": "markdown",
   "id": "791fcaa6",
   "metadata": {},
   "source": [
    "#### 3.1 Modelo LDA"
   ]
  },
  {
   "cell_type": "code",
   "execution_count": 118,
   "id": "1af3e667",
   "metadata": {},
   "outputs": [
    {
     "name": "stdout",
     "output_type": "stream",
     "text": [
      "score = 0.4892\n",
      "{'LDA__n_components': None}\n"
     ]
    }
   ],
   "source": [
    "steps = [(\"preprocessor\", preprocessor), ('LDA', LinearDiscriminantAnalysis())]\n",
    "pipeline = Pipeline(steps)\n",
    "parametros ={'LDA__n_components':[None, 1]}\n",
    "grid_LDA = GridSearchCV(pipeline, param_grid=parametros, cv=5, scoring=metrica)\n",
    "grid_LDA.fit(xtrain2, ytrain2)\n",
    "print(\"score = %3.4f\" %(grid_LDA.score(xvalid2,yvalid2)))\n",
    "print(grid_LDA.best_params_)"
   ]
  },
  {
   "cell_type": "markdown",
   "id": "6f07aee4",
   "metadata": {},
   "source": [
    "#### 3.2 Modelo LogisticRegression"
   ]
  },
  {
   "cell_type": "code",
   "execution_count": 120,
   "id": "2425d84b",
   "metadata": {},
   "outputs": [
    {
     "name": "stdout",
     "output_type": "stream",
     "text": [
      "score = 0.4891\n",
      "{'logistic__C': 4328.761281083057, 'logistic__penalty': 'l2'}\n"
     ]
    },
    {
     "name": "stderr",
     "output_type": "stream",
     "text": [
      "C:\\Users\\CESCHAMO\\Anaconda3\\lib\\site-packages\\sklearn\\model_selection\\_validation.py:378: FitFailedWarning: \n",
      "60 fits failed out of a total of 120.\n",
      "The score on these train-test partitions for these parameters will be set to nan.\n",
      "If these failures are not expected, you can try to debug them by setting error_score='raise'.\n",
      "\n",
      "Below are more details about the failures:\n",
      "--------------------------------------------------------------------------------\n",
      "60 fits failed with the following error:\n",
      "Traceback (most recent call last):\n",
      "  File \"C:\\Users\\CESCHAMO\\Anaconda3\\lib\\site-packages\\sklearn\\model_selection\\_validation.py\", line 686, in _fit_and_score\n",
      "    estimator.fit(X_train, y_train, **fit_params)\n",
      "  File \"C:\\Users\\CESCHAMO\\Anaconda3\\lib\\site-packages\\sklearn\\pipeline.py\", line 382, in fit\n",
      "    self._final_estimator.fit(Xt, y, **fit_params_last_step)\n",
      "  File \"C:\\Users\\CESCHAMO\\Anaconda3\\lib\\site-packages\\sklearn\\linear_model\\_logistic.py\", line 1094, in fit\n",
      "    solver = _check_solver(self.solver, self.penalty, self.dual)\n",
      "  File \"C:\\Users\\CESCHAMO\\Anaconda3\\lib\\site-packages\\sklearn\\linear_model\\_logistic.py\", line 61, in _check_solver\n",
      "    raise ValueError(\n",
      "ValueError: Solver lbfgs supports only 'l2' or 'none' penalties, got l1 penalty.\n",
      "\n",
      "  warnings.warn(some_fits_failed_message, FitFailedWarning)\n",
      "C:\\Users\\CESCHAMO\\Anaconda3\\lib\\site-packages\\sklearn\\model_selection\\_search.py:953: UserWarning: One or more of the test scores are non-finite: [       nan 0.47157822        nan 0.47175282        nan 0.47184053\n",
      "        nan 0.47186939        nan 0.47186758        nan 0.47187333\n",
      "        nan 0.47187044        nan 0.47187092        nan 0.47187382\n",
      "        nan 0.47187333        nan 0.47187285        nan 0.47187285]\n",
      "  warnings.warn(\n"
     ]
    }
   ],
   "source": [
    "steps = [(\"preprocessor\", preprocessor), (\"logistic\", LogisticRegression())]\n",
    "pipeline = Pipeline(steps)\n",
    "parametros ={\"logistic__C\": np.logspace(0, 5, 12,16), \"logistic__penalty\": [\"l1\", \"l2\"]}\n",
    "grid_LASSO = GridSearchCV(pipeline, param_grid=parametros, cv=5, scoring=metrica)\n",
    "grid_LASSO.fit(xtrain2, ytrain2)\n",
    "print(\"score = %3.4f\" %(grid_LASSO.score(xvalid2,yvalid2)))\n",
    "print(grid_LASSO.best_params_)"
   ]
  },
  {
   "cell_type": "markdown",
   "id": "eea10386",
   "metadata": {},
   "source": [
    "#### 3.3 Modelo SVM -SVM_linear, SVC(kernel=\"linear\")"
   ]
  },
  {
   "cell_type": "code",
   "execution_count": 121,
   "id": "3271e0c2",
   "metadata": {},
   "outputs": [
    {
     "name": "stdout",
     "output_type": "stream",
     "text": [
      "score = 0.5487\n",
      "{'SVM_linear__C': 0.1}\n"
     ]
    }
   ],
   "source": [
    "steps = [(\"preprocessor\", preprocessor),(\"SVM_linear\", SVC(kernel=\"linear\"))]\n",
    "pipeline = Pipeline(steps)\n",
    "parametros = {'SVM_linear__C':[0.01,0.1,1,10]}\n",
    "grid_SVM_1 = GridSearchCV(pipeline, param_grid=parametros, cv=5, scoring=metrica)\n",
    "grid_SVM_1.fit(xtrain2, ytrain2)\n",
    "print(\"score = %3.4f\" %(grid_SVM_1.score(xvalid2,yvalid2)))\n",
    "print(grid_SVM_1.best_params_)"
   ]
  },
  {
   "cell_type": "markdown",
   "id": "59b472e8",
   "metadata": {},
   "source": [
    "#### 3.4 Modelo RNA"
   ]
  },
  {
   "cell_type": "code",
   "execution_count": 124,
   "id": "c539369b",
   "metadata": {},
   "outputs": [
    {
     "name": "stdout",
     "output_type": "stream",
     "text": [
      "score = 0.4931\n",
      "{'MLP__activation': 'logistic', 'MLP__alpha': 0.001, 'MLP__hidden_layer_sizes': (122,), 'MLP__learning_rate': 'adaptive', 'MLP__learning_rate_init': 1e-05, 'MLP__solver': 'sgd'}\n"
     ]
    },
    {
     "name": "stderr",
     "output_type": "stream",
     "text": [
      "C:\\Users\\CESCHAMO\\Anaconda3\\lib\\site-packages\\sklearn\\neural_network\\_multilayer_perceptron.py:702: ConvergenceWarning: Stochastic Optimizer: Maximum iterations (100) reached and the optimization hasn't converged yet.\n",
      "  warnings.warn(\n"
     ]
    }
   ],
   "source": [
    "steps = [(\"preprocessor\", preprocessor), (\"MLP\",MLPClassifier(max_iter=100))]\n",
    "pipeline = Pipeline(steps) \n",
    "parametros = {'MLP__hidden_layer_sizes': [(110,),(122,)],\n",
    "    'MLP__activation': ['logistic','relu'],\n",
    "    'MLP__solver': ['sgd', 'adam'],\n",
    "    'MLP__alpha': [0.00001,0.001],\n",
    "    'MLP__learning_rate_init': [0.00001,0.001],\n",
    "    'MLP__learning_rate': ['constant','adaptive']\n",
    "}\n",
    "grid_RNA = GridSearchCV(pipeline, param_grid=parametros, n_jobs=-1, cv=5, scoring=metrica)\n",
    "grid_RNA.fit(xtrain2, ytrain2)\n",
    "print(\"score = %3.4f\" %(grid_RNA.score(xvalid2,yvalid2)))\n",
    "print(grid_RNA.best_params_)"
   ]
  },
  {
   "cell_type": "markdown",
   "id": "1520c18b",
   "metadata": {},
   "source": [
    "#### 3.5 Modelo LDA con SMOTE"
   ]
  },
  {
   "cell_type": "code",
   "execution_count": 125,
   "id": "d6d7d0f6",
   "metadata": {},
   "outputs": [],
   "source": [
    "from imblearn.over_sampling import SMOTE\n",
    "from imblearn.pipeline import Pipeline"
   ]
  },
  {
   "cell_type": "code",
   "execution_count": 126,
   "id": "132d50e8",
   "metadata": {},
   "outputs": [
    {
     "name": "stdout",
     "output_type": "stream",
     "text": [
      "score = 0.5109\n",
      "{'LDA__n_components': None}\n"
     ]
    }
   ],
   "source": [
    "steps = [(\"preprocessor\", preprocessor), ('sampling', SMOTE()),('LDA', LinearDiscriminantAnalysis())]\n",
    "pipeline = Pipeline(steps)\n",
    "parametros ={'LDA__n_components':[None, 1]}\n",
    "grid_LDA_SMOTE = GridSearchCV(pipeline, param_grid=parametros, cv=5, scoring=metrica)\n",
    "grid_LDA_SMOTE.fit(xtrain2, ytrain2)\n",
    "print(\"score = %3.4f\" %(grid_LDA_SMOTE.score(xvalid2,yvalid2)))\n",
    "print(grid_LDA_SMOTE.best_params_)"
   ]
  },
  {
   "cell_type": "markdown",
   "id": "6a1e7a51",
   "metadata": {},
   "source": [
    "#### 3.6 Modelo LogisticRegression con SMOTE"
   ]
  },
  {
   "cell_type": "code",
   "execution_count": 127,
   "id": "ef610532",
   "metadata": {
    "scrolled": true
   },
   "outputs": [
    {
     "name": "stdout",
     "output_type": "stream",
     "text": [
      "score = 0.5092\n",
      "{'logistic__C': 35111.917342151275, 'logistic__penalty': 'l2'}\n"
     ]
    },
    {
     "name": "stderr",
     "output_type": "stream",
     "text": [
      "C:\\Users\\CESCHAMO\\Anaconda3\\lib\\site-packages\\sklearn\\model_selection\\_validation.py:378: FitFailedWarning: \n",
      "60 fits failed out of a total of 120.\n",
      "The score on these train-test partitions for these parameters will be set to nan.\n",
      "If these failures are not expected, you can try to debug them by setting error_score='raise'.\n",
      "\n",
      "Below are more details about the failures:\n",
      "--------------------------------------------------------------------------------\n",
      "60 fits failed with the following error:\n",
      "Traceback (most recent call last):\n",
      "  File \"C:\\Users\\CESCHAMO\\Anaconda3\\lib\\site-packages\\sklearn\\model_selection\\_validation.py\", line 686, in _fit_and_score\n",
      "    estimator.fit(X_train, y_train, **fit_params)\n",
      "  File \"C:\\Users\\CESCHAMO\\Anaconda3\\lib\\site-packages\\imblearn\\pipeline.py\", line 272, in fit\n",
      "    self._final_estimator.fit(Xt, yt, **fit_params_last_step)\n",
      "  File \"C:\\Users\\CESCHAMO\\Anaconda3\\lib\\site-packages\\sklearn\\linear_model\\_logistic.py\", line 1094, in fit\n",
      "    solver = _check_solver(self.solver, self.penalty, self.dual)\n",
      "  File \"C:\\Users\\CESCHAMO\\Anaconda3\\lib\\site-packages\\sklearn\\linear_model\\_logistic.py\", line 61, in _check_solver\n",
      "    raise ValueError(\n",
      "ValueError: Solver lbfgs supports only 'l2' or 'none' penalties, got l1 penalty.\n",
      "\n",
      "  warnings.warn(some_fits_failed_message, FitFailedWarning)\n",
      "C:\\Users\\CESCHAMO\\Anaconda3\\lib\\site-packages\\sklearn\\model_selection\\_search.py:953: UserWarning: One or more of the test scores are non-finite: [       nan 0.48428194        nan 0.48508492        nan 0.48554687\n",
      "        nan 0.48694835        nan 0.48474788        nan 0.48580634\n",
      "        nan 0.48503597        nan 0.48515914        nan 0.48537826\n",
      "        nan 0.48666533        nan 0.48707772        nan 0.48555067]\n",
      "  warnings.warn(\n"
     ]
    }
   ],
   "source": [
    "steps = [(\"preprocessor\", preprocessor), ('sampling', SMOTE()), (\"logistic\", LogisticRegression())]\n",
    "pipeline = Pipeline(steps)\n",
    "parametros ={\"logistic__C\": np.logspace(0, 5, 12,16), \"logistic__penalty\": [\"l1\", \"l2\"]}\n",
    "grid_LASSO_SMOTE = GridSearchCV(pipeline, param_grid=parametros, cv=5, scoring=metrica)\n",
    "grid_LASSO_SMOTE.fit(xtrain2, ytrain2)\n",
    "print(\"score = %3.4f\" %(grid_LASSO_SMOTE.score(xvalid2,yvalid2)))\n",
    "print(grid_LASSO_SMOTE.best_params_)"
   ]
  },
  {
   "cell_type": "markdown",
   "id": "0858f264",
   "metadata": {},
   "source": [
    "#### 3.7 Modelo SVM -SVM_linear, SVC(kernel=\"linear\") con SMOTE"
   ]
  },
  {
   "cell_type": "code",
   "execution_count": 128,
   "id": "55f46c03",
   "metadata": {},
   "outputs": [
    {
     "name": "stdout",
     "output_type": "stream",
     "text": [
      "score = 0.5092\n",
      "{'SVM_linear__C': 0.1}\n"
     ]
    }
   ],
   "source": [
    "steps = [(\"preprocessor\", preprocessor),('sampling', SMOTE()),(\"SVM_linear\", SVC(kernel=\"linear\"))]\n",
    "pipeline = Pipeline(steps)\n",
    "parametros = {'SVM_linear__C':[0.01,0.1,1,10]}\n",
    "grid_SVM_1_SMOTE = GridSearchCV(pipeline, param_grid=parametros, cv=5, scoring=metrica)\n",
    "grid_SVM_1_SMOTE.fit(xtrain2, ytrain2)\n",
    "print(\"score = %3.4f\" %(grid_SVM_1_SMOTE.score(xvalid2,yvalid2)))\n",
    "print(grid_SVM_1_SMOTE.best_params_)"
   ]
  }
 ],
 "metadata": {
  "kernelspec": {
   "display_name": "Python 3 (ipykernel)",
   "language": "python",
   "name": "python3"
  },
  "language_info": {
   "codemirror_mode": {
    "name": "ipython",
    "version": 3
   },
   "file_extension": ".py",
   "mimetype": "text/x-python",
   "name": "python",
   "nbconvert_exporter": "python",
   "pygments_lexer": "ipython3",
   "version": "3.9.7"
  }
 },
 "nbformat": 4,
 "nbformat_minor": 5
}
